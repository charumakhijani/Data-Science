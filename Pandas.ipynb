{
 "cells": [
  {
   "cell_type": "code",
   "execution_count": 2,
   "metadata": {},
   "outputs": [
    {
     "name": "stderr",
     "output_type": "stream",
     "text": [
      "/anaconda/envs/py35/lib/python3.5/importlib/_bootstrap.py:222: RuntimeWarning: numpy.dtype size changed, may indicate binary incompatibility. Expected 96, got 88\n",
      "  return f(*args, **kwds)\n",
      "/anaconda/envs/py35/lib/python3.5/importlib/_bootstrap.py:222: RuntimeWarning: numpy.dtype size changed, may indicate binary incompatibility. Expected 96, got 88\n",
      "  return f(*args, **kwds)\n"
     ]
    }
   ],
   "source": [
    "import pandas as pd\n",
    "import numpy as np"
   ]
  },
  {
   "cell_type": "code",
   "execution_count": 3,
   "metadata": {},
   "outputs": [],
   "source": [
    "df = pd.DataFrame(np.arange(0,20).reshape(5,4), index=['Row1','Row2','Row3','Row4','Row5'], columns=['Col1','Col2','Col3','Col4'])"
   ]
  },
  {
   "cell_type": "code",
   "execution_count": 4,
   "metadata": {},
   "outputs": [
    {
     "data": {
      "text/html": [
       "<div>\n",
       "<style scoped>\n",
       "    .dataframe tbody tr th:only-of-type {\n",
       "        vertical-align: middle;\n",
       "    }\n",
       "\n",
       "    .dataframe tbody tr th {\n",
       "        vertical-align: top;\n",
       "    }\n",
       "\n",
       "    .dataframe thead th {\n",
       "        text-align: right;\n",
       "    }\n",
       "</style>\n",
       "<table border=\"1\" class=\"dataframe\">\n",
       "  <thead>\n",
       "    <tr style=\"text-align: right;\">\n",
       "      <th></th>\n",
       "      <th>Col1</th>\n",
       "      <th>Col2</th>\n",
       "      <th>Col3</th>\n",
       "      <th>Col4</th>\n",
       "    </tr>\n",
       "  </thead>\n",
       "  <tbody>\n",
       "    <tr>\n",
       "      <th>Row1</th>\n",
       "      <td>0</td>\n",
       "      <td>1</td>\n",
       "      <td>2</td>\n",
       "      <td>3</td>\n",
       "    </tr>\n",
       "    <tr>\n",
       "      <th>Row2</th>\n",
       "      <td>4</td>\n",
       "      <td>5</td>\n",
       "      <td>6</td>\n",
       "      <td>7</td>\n",
       "    </tr>\n",
       "    <tr>\n",
       "      <th>Row3</th>\n",
       "      <td>8</td>\n",
       "      <td>9</td>\n",
       "      <td>10</td>\n",
       "      <td>11</td>\n",
       "    </tr>\n",
       "    <tr>\n",
       "      <th>Row4</th>\n",
       "      <td>12</td>\n",
       "      <td>13</td>\n",
       "      <td>14</td>\n",
       "      <td>15</td>\n",
       "    </tr>\n",
       "    <tr>\n",
       "      <th>Row5</th>\n",
       "      <td>16</td>\n",
       "      <td>17</td>\n",
       "      <td>18</td>\n",
       "      <td>19</td>\n",
       "    </tr>\n",
       "  </tbody>\n",
       "</table>\n",
       "</div>"
      ],
      "text/plain": [
       "      Col1  Col2  Col3  Col4\n",
       "Row1     0     1     2     3\n",
       "Row2     4     5     6     7\n",
       "Row3     8     9    10    11\n",
       "Row4    12    13    14    15\n",
       "Row5    16    17    18    19"
      ]
     },
     "execution_count": 4,
     "metadata": {},
     "output_type": "execute_result"
    }
   ],
   "source": [
    "df.head()"
   ]
  },
  {
   "cell_type": "code",
   "execution_count": 5,
   "metadata": {},
   "outputs": [],
   "source": [
    "df.to_csv('Test1.csv')"
   ]
  },
  {
   "cell_type": "code",
   "execution_count": 6,
   "metadata": {},
   "outputs": [
    {
     "data": {
      "text/plain": [
       "Col1    0\n",
       "Col2    1\n",
       "Col3    2\n",
       "Col4    3\n",
       "Name: Row1, dtype: int64"
      ]
     },
     "execution_count": 6,
     "metadata": {},
     "output_type": "execute_result"
    }
   ],
   "source": [
    "# Access elements\n",
    "# 1. loc\n",
    "# 2. iloc\n",
    "\n",
    "df.loc['Row1']"
   ]
  },
  {
   "cell_type": "code",
   "execution_count": 7,
   "metadata": {},
   "outputs": [
    {
     "data": {
      "text/plain": [
       "pandas.core.series.Series"
      ]
     },
     "execution_count": 7,
     "metadata": {},
     "output_type": "execute_result"
    }
   ],
   "source": [
    "type(df.loc['Row1'])"
   ]
  },
  {
   "cell_type": "code",
   "execution_count": 8,
   "metadata": {},
   "outputs": [
    {
     "data": {
      "text/html": [
       "<div>\n",
       "<style scoped>\n",
       "    .dataframe tbody tr th:only-of-type {\n",
       "        vertical-align: middle;\n",
       "    }\n",
       "\n",
       "    .dataframe tbody tr th {\n",
       "        vertical-align: top;\n",
       "    }\n",
       "\n",
       "    .dataframe thead th {\n",
       "        text-align: right;\n",
       "    }\n",
       "</style>\n",
       "<table border=\"1\" class=\"dataframe\">\n",
       "  <thead>\n",
       "    <tr style=\"text-align: right;\">\n",
       "      <th></th>\n",
       "      <th>Col1</th>\n",
       "      <th>Col2</th>\n",
       "      <th>Col3</th>\n",
       "      <th>Col4</th>\n",
       "    </tr>\n",
       "  </thead>\n",
       "  <tbody>\n",
       "    <tr>\n",
       "      <th>Row1</th>\n",
       "      <td>0</td>\n",
       "      <td>1</td>\n",
       "      <td>2</td>\n",
       "      <td>3</td>\n",
       "    </tr>\n",
       "    <tr>\n",
       "      <th>Row2</th>\n",
       "      <td>4</td>\n",
       "      <td>5</td>\n",
       "      <td>6</td>\n",
       "      <td>7</td>\n",
       "    </tr>\n",
       "    <tr>\n",
       "      <th>Row3</th>\n",
       "      <td>8</td>\n",
       "      <td>9</td>\n",
       "      <td>10</td>\n",
       "      <td>11</td>\n",
       "    </tr>\n",
       "    <tr>\n",
       "      <th>Row4</th>\n",
       "      <td>12</td>\n",
       "      <td>13</td>\n",
       "      <td>14</td>\n",
       "      <td>15</td>\n",
       "    </tr>\n",
       "    <tr>\n",
       "      <th>Row5</th>\n",
       "      <td>16</td>\n",
       "      <td>17</td>\n",
       "      <td>18</td>\n",
       "      <td>19</td>\n",
       "    </tr>\n",
       "  </tbody>\n",
       "</table>\n",
       "</div>"
      ],
      "text/plain": [
       "      Col1  Col2  Col3  Col4\n",
       "Row1     0     1     2     3\n",
       "Row2     4     5     6     7\n",
       "Row3     8     9    10    11\n",
       "Row4    12    13    14    15\n",
       "Row5    16    17    18    19"
      ]
     },
     "execution_count": 8,
     "metadata": {},
     "output_type": "execute_result"
    }
   ],
   "source": [
    "df.iloc[:,:]"
   ]
  },
  {
   "cell_type": "code",
   "execution_count": 10,
   "metadata": {},
   "outputs": [
    {
     "data": {
      "text/html": [
       "<div>\n",
       "<style scoped>\n",
       "    .dataframe tbody tr th:only-of-type {\n",
       "        vertical-align: middle;\n",
       "    }\n",
       "\n",
       "    .dataframe tbody tr th {\n",
       "        vertical-align: top;\n",
       "    }\n",
       "\n",
       "    .dataframe thead th {\n",
       "        text-align: right;\n",
       "    }\n",
       "</style>\n",
       "<table border=\"1\" class=\"dataframe\">\n",
       "  <thead>\n",
       "    <tr style=\"text-align: right;\">\n",
       "      <th></th>\n",
       "      <th>Col1</th>\n",
       "      <th>Col2</th>\n",
       "    </tr>\n",
       "  </thead>\n",
       "  <tbody>\n",
       "    <tr>\n",
       "      <th>Row1</th>\n",
       "      <td>0</td>\n",
       "      <td>1</td>\n",
       "    </tr>\n",
       "    <tr>\n",
       "      <th>Row2</th>\n",
       "      <td>4</td>\n",
       "      <td>5</td>\n",
       "    </tr>\n",
       "  </tbody>\n",
       "</table>\n",
       "</div>"
      ],
      "text/plain": [
       "      Col1  Col2\n",
       "Row1     0     1\n",
       "Row2     4     5"
      ]
     },
     "execution_count": 10,
     "metadata": {},
     "output_type": "execute_result"
    }
   ],
   "source": [
    "df.iloc[0:2,0:2]"
   ]
  },
  {
   "cell_type": "code",
   "execution_count": 11,
   "metadata": {},
   "outputs": [
    {
     "data": {
      "text/plain": [
       "pandas.core.frame.DataFrame"
      ]
     },
     "execution_count": 11,
     "metadata": {},
     "output_type": "execute_result"
    }
   ],
   "source": [
    "type(df.iloc[0:2,0:2])"
   ]
  },
  {
   "cell_type": "code",
   "execution_count": 15,
   "metadata": {},
   "outputs": [
    {
     "data": {
      "text/plain": [
       "array([[ 1,  2,  3],\n",
       "       [ 5,  6,  7],\n",
       "       [ 9, 10, 11],\n",
       "       [13, 14, 15],\n",
       "       [17, 18, 19]])"
      ]
     },
     "execution_count": 15,
     "metadata": {},
     "output_type": "execute_result"
    }
   ],
   "source": [
    "df.iloc[:,1:].values"
   ]
  },
  {
   "cell_type": "code",
   "execution_count": 16,
   "metadata": {},
   "outputs": [
    {
     "data": {
      "text/plain": [
       "(5, 3)"
      ]
     },
     "execution_count": 16,
     "metadata": {},
     "output_type": "execute_result"
    }
   ],
   "source": [
    "df.iloc[:,1:].values.shape"
   ]
  },
  {
   "cell_type": "code",
   "execution_count": 18,
   "metadata": {},
   "outputs": [
    {
     "data": {
      "text/plain": [
       "Col1    0\n",
       "Col2    0\n",
       "Col3    0\n",
       "Col4    0\n",
       "dtype: int64"
      ]
     },
     "execution_count": 18,
     "metadata": {},
     "output_type": "execute_result"
    }
   ],
   "source": [
    "df.isnull().sum()"
   ]
  },
  {
   "cell_type": "code",
   "execution_count": 17,
   "metadata": {},
   "outputs": [
    {
     "data": {
      "text/plain": [
       "12    1\n",
       "4     1\n",
       "16    1\n",
       "8     1\n",
       "0     1\n",
       "Name: Col1, dtype: int64"
      ]
     },
     "execution_count": 17,
     "metadata": {},
     "output_type": "execute_result"
    }
   ],
   "source": [
    "df['Col1'].value_counts()"
   ]
  },
  {
   "cell_type": "code",
   "execution_count": 19,
   "metadata": {},
   "outputs": [
    {
     "data": {
      "text/html": [
       "<div>\n",
       "<style scoped>\n",
       "    .dataframe tbody tr th:only-of-type {\n",
       "        vertical-align: middle;\n",
       "    }\n",
       "\n",
       "    .dataframe tbody tr th {\n",
       "        vertical-align: top;\n",
       "    }\n",
       "\n",
       "    .dataframe thead th {\n",
       "        text-align: right;\n",
       "    }\n",
       "</style>\n",
       "<table border=\"1\" class=\"dataframe\">\n",
       "  <thead>\n",
       "    <tr style=\"text-align: right;\">\n",
       "      <th></th>\n",
       "      <th>Unnamed: 0</th>\n",
       "      <th>Col1</th>\n",
       "      <th>Col2</th>\n",
       "      <th>Col3</th>\n",
       "      <th>Col4</th>\n",
       "    </tr>\n",
       "  </thead>\n",
       "  <tbody>\n",
       "    <tr>\n",
       "      <th>0</th>\n",
       "      <td>Row1</td>\n",
       "      <td>0</td>\n",
       "      <td>1</td>\n",
       "      <td>2</td>\n",
       "      <td>3</td>\n",
       "    </tr>\n",
       "    <tr>\n",
       "      <th>1</th>\n",
       "      <td>Row2</td>\n",
       "      <td>4</td>\n",
       "      <td>5</td>\n",
       "      <td>6</td>\n",
       "      <td>7</td>\n",
       "    </tr>\n",
       "    <tr>\n",
       "      <th>2</th>\n",
       "      <td>Row3</td>\n",
       "      <td>8</td>\n",
       "      <td>9</td>\n",
       "      <td>10</td>\n",
       "      <td>11</td>\n",
       "    </tr>\n",
       "    <tr>\n",
       "      <th>3</th>\n",
       "      <td>Row4</td>\n",
       "      <td>12</td>\n",
       "      <td>13</td>\n",
       "      <td>14</td>\n",
       "      <td>15</td>\n",
       "    </tr>\n",
       "    <tr>\n",
       "      <th>4</th>\n",
       "      <td>Row5</td>\n",
       "      <td>16</td>\n",
       "      <td>17</td>\n",
       "      <td>18</td>\n",
       "      <td>19</td>\n",
       "    </tr>\n",
       "  </tbody>\n",
       "</table>\n",
       "</div>"
      ],
      "text/plain": [
       "  Unnamed: 0  Col1  Col2  Col3  Col4\n",
       "0       Row1     0     1     2     3\n",
       "1       Row2     4     5     6     7\n",
       "2       Row3     8     9    10    11\n",
       "3       Row4    12    13    14    15\n",
       "4       Row5    16    17    18    19"
      ]
     },
     "execution_count": 19,
     "metadata": {},
     "output_type": "execute_result"
    }
   ],
   "source": [
    "df = pd.read_csv('Test1.csv') # sep is attrubute to provide separator if there is anything else than comma(,) like sep=';'\n",
    "df.head()"
   ]
  },
  {
   "cell_type": "code",
   "execution_count": 21,
   "metadata": {},
   "outputs": [
    {
     "data": {
      "text/html": [
       "<div>\n",
       "<style scoped>\n",
       "    .dataframe tbody tr th:only-of-type {\n",
       "        vertical-align: middle;\n",
       "    }\n",
       "\n",
       "    .dataframe tbody tr th {\n",
       "        vertical-align: top;\n",
       "    }\n",
       "\n",
       "    .dataframe thead th {\n",
       "        text-align: right;\n",
       "    }\n",
       "</style>\n",
       "<table border=\"1\" class=\"dataframe\">\n",
       "  <thead>\n",
       "    <tr style=\"text-align: right;\">\n",
       "      <th></th>\n",
       "      <th>Col1</th>\n",
       "    </tr>\n",
       "  </thead>\n",
       "  <tbody>\n",
       "    <tr>\n",
       "      <th>0</th>\n",
       "      <td>0</td>\n",
       "    </tr>\n",
       "    <tr>\n",
       "      <th>1</th>\n",
       "      <td>4</td>\n",
       "    </tr>\n",
       "    <tr>\n",
       "      <th>2</th>\n",
       "      <td>8</td>\n",
       "    </tr>\n",
       "    <tr>\n",
       "      <th>3</th>\n",
       "      <td>12</td>\n",
       "    </tr>\n",
       "    <tr>\n",
       "      <th>4</th>\n",
       "      <td>16</td>\n",
       "    </tr>\n",
       "  </tbody>\n",
       "</table>\n",
       "</div>"
      ],
      "text/plain": [
       "   Col1\n",
       "0     0\n",
       "1     4\n",
       "2     8\n",
       "3    12\n",
       "4    16"
      ]
     },
     "execution_count": 21,
     "metadata": {},
     "output_type": "execute_result"
    }
   ],
   "source": [
    "df[['Col1']]"
   ]
  },
  {
   "cell_type": "code",
   "execution_count": 22,
   "metadata": {},
   "outputs": [
    {
     "data": {
      "text/html": [
       "<div>\n",
       "<style scoped>\n",
       "    .dataframe tbody tr th:only-of-type {\n",
       "        vertical-align: middle;\n",
       "    }\n",
       "\n",
       "    .dataframe tbody tr th {\n",
       "        vertical-align: top;\n",
       "    }\n",
       "\n",
       "    .dataframe thead th {\n",
       "        text-align: right;\n",
       "    }\n",
       "</style>\n",
       "<table border=\"1\" class=\"dataframe\">\n",
       "  <thead>\n",
       "    <tr style=\"text-align: right;\">\n",
       "      <th></th>\n",
       "      <th>Col1</th>\n",
       "      <th>Col2</th>\n",
       "    </tr>\n",
       "  </thead>\n",
       "  <tbody>\n",
       "    <tr>\n",
       "      <th>0</th>\n",
       "      <td>0</td>\n",
       "      <td>1</td>\n",
       "    </tr>\n",
       "    <tr>\n",
       "      <th>1</th>\n",
       "      <td>4</td>\n",
       "      <td>5</td>\n",
       "    </tr>\n",
       "    <tr>\n",
       "      <th>2</th>\n",
       "      <td>8</td>\n",
       "      <td>9</td>\n",
       "    </tr>\n",
       "    <tr>\n",
       "      <th>3</th>\n",
       "      <td>12</td>\n",
       "      <td>13</td>\n",
       "    </tr>\n",
       "    <tr>\n",
       "      <th>4</th>\n",
       "      <td>16</td>\n",
       "      <td>17</td>\n",
       "    </tr>\n",
       "  </tbody>\n",
       "</table>\n",
       "</div>"
      ],
      "text/plain": [
       "   Col1  Col2\n",
       "0     0     1\n",
       "1     4     5\n",
       "2     8     9\n",
       "3    12    13\n",
       "4    16    17"
      ]
     },
     "execution_count": 22,
     "metadata": {},
     "output_type": "execute_result"
    }
   ],
   "source": [
    "df[['Col1','Col2']]"
   ]
  },
  {
   "cell_type": "code",
   "execution_count": 23,
   "metadata": {},
   "outputs": [
    {
     "data": {
      "text/plain": [
       "0     0\n",
       "1     4\n",
       "2     8\n",
       "3    12\n",
       "4    16\n",
       "Name: Col1, dtype: int64"
      ]
     },
     "execution_count": 23,
     "metadata": {},
     "output_type": "execute_result"
    }
   ],
   "source": [
    "df['Col1']"
   ]
  },
  {
   "cell_type": "code",
   "execution_count": 24,
   "metadata": {},
   "outputs": [
    {
     "data": {
      "text/plain": [
       "array([ 0,  4,  8, 12, 16])"
      ]
     },
     "execution_count": 24,
     "metadata": {},
     "output_type": "execute_result"
    }
   ],
   "source": [
    "df['Col1'].unique()"
   ]
  },
  {
   "cell_type": "code",
   "execution_count": 26,
   "metadata": {},
   "outputs": [
    {
     "name": "stdout",
     "output_type": "stream",
     "text": [
      "<class 'pandas.core.frame.DataFrame'>\n",
      "RangeIndex: 5 entries, 0 to 4\n",
      "Data columns (total 5 columns):\n",
      "Unnamed: 0    5 non-null object\n",
      "Col1          5 non-null int64\n",
      "Col2          5 non-null int64\n",
      "Col3          5 non-null int64\n",
      "Col4          5 non-null int64\n",
      "dtypes: int64(4), object(1)\n",
      "memory usage: 280.0+ bytes\n"
     ]
    }
   ],
   "source": [
    "df.info()"
   ]
  },
  {
   "cell_type": "code",
   "execution_count": 27,
   "metadata": {},
   "outputs": [
    {
     "data": {
      "text/html": [
       "<div>\n",
       "<style scoped>\n",
       "    .dataframe tbody tr th:only-of-type {\n",
       "        vertical-align: middle;\n",
       "    }\n",
       "\n",
       "    .dataframe tbody tr th {\n",
       "        vertical-align: top;\n",
       "    }\n",
       "\n",
       "    .dataframe thead th {\n",
       "        text-align: right;\n",
       "    }\n",
       "</style>\n",
       "<table border=\"1\" class=\"dataframe\">\n",
       "  <thead>\n",
       "    <tr style=\"text-align: right;\">\n",
       "      <th></th>\n",
       "      <th>Col1</th>\n",
       "      <th>Col2</th>\n",
       "      <th>Col3</th>\n",
       "      <th>Col4</th>\n",
       "    </tr>\n",
       "  </thead>\n",
       "  <tbody>\n",
       "    <tr>\n",
       "      <th>count</th>\n",
       "      <td>5.000000</td>\n",
       "      <td>5.000000</td>\n",
       "      <td>5.000000</td>\n",
       "      <td>5.000000</td>\n",
       "    </tr>\n",
       "    <tr>\n",
       "      <th>mean</th>\n",
       "      <td>8.000000</td>\n",
       "      <td>9.000000</td>\n",
       "      <td>10.000000</td>\n",
       "      <td>11.000000</td>\n",
       "    </tr>\n",
       "    <tr>\n",
       "      <th>std</th>\n",
       "      <td>6.324555</td>\n",
       "      <td>6.324555</td>\n",
       "      <td>6.324555</td>\n",
       "      <td>6.324555</td>\n",
       "    </tr>\n",
       "    <tr>\n",
       "      <th>min</th>\n",
       "      <td>0.000000</td>\n",
       "      <td>1.000000</td>\n",
       "      <td>2.000000</td>\n",
       "      <td>3.000000</td>\n",
       "    </tr>\n",
       "    <tr>\n",
       "      <th>25%</th>\n",
       "      <td>4.000000</td>\n",
       "      <td>5.000000</td>\n",
       "      <td>6.000000</td>\n",
       "      <td>7.000000</td>\n",
       "    </tr>\n",
       "    <tr>\n",
       "      <th>50%</th>\n",
       "      <td>8.000000</td>\n",
       "      <td>9.000000</td>\n",
       "      <td>10.000000</td>\n",
       "      <td>11.000000</td>\n",
       "    </tr>\n",
       "    <tr>\n",
       "      <th>75%</th>\n",
       "      <td>12.000000</td>\n",
       "      <td>13.000000</td>\n",
       "      <td>14.000000</td>\n",
       "      <td>15.000000</td>\n",
       "    </tr>\n",
       "    <tr>\n",
       "      <th>max</th>\n",
       "      <td>16.000000</td>\n",
       "      <td>17.000000</td>\n",
       "      <td>18.000000</td>\n",
       "      <td>19.000000</td>\n",
       "    </tr>\n",
       "  </tbody>\n",
       "</table>\n",
       "</div>"
      ],
      "text/plain": [
       "            Col1       Col2       Col3       Col4\n",
       "count   5.000000   5.000000   5.000000   5.000000\n",
       "mean    8.000000   9.000000  10.000000  11.000000\n",
       "std     6.324555   6.324555   6.324555   6.324555\n",
       "min     0.000000   1.000000   2.000000   3.000000\n",
       "25%     4.000000   5.000000   6.000000   7.000000\n",
       "50%     8.000000   9.000000  10.000000  11.000000\n",
       "75%    12.000000  13.000000  14.000000  15.000000\n",
       "max    16.000000  17.000000  18.000000  19.000000"
      ]
     },
     "execution_count": 27,
     "metadata": {},
     "output_type": "execute_result"
    }
   ],
   "source": [
    "df.describe() #it will take only number data type values into consideration and leave object types as they can not be used for calculating mean, std etc."
   ]
  },
  {
   "cell_type": "code",
   "execution_count": 28,
   "metadata": {},
   "outputs": [
    {
     "data": {
      "text/html": [
       "<div>\n",
       "<style scoped>\n",
       "    .dataframe tbody tr th:only-of-type {\n",
       "        vertical-align: middle;\n",
       "    }\n",
       "\n",
       "    .dataframe tbody tr th {\n",
       "        vertical-align: top;\n",
       "    }\n",
       "\n",
       "    .dataframe thead th {\n",
       "        text-align: right;\n",
       "    }\n",
       "</style>\n",
       "<table border=\"1\" class=\"dataframe\">\n",
       "  <thead>\n",
       "    <tr style=\"text-align: right;\">\n",
       "      <th></th>\n",
       "      <th>Unnamed: 0</th>\n",
       "      <th>Col1</th>\n",
       "      <th>Col2</th>\n",
       "      <th>Col3</th>\n",
       "      <th>Col4</th>\n",
       "    </tr>\n",
       "  </thead>\n",
       "  <tbody>\n",
       "    <tr>\n",
       "      <th>2</th>\n",
       "      <td>Row3</td>\n",
       "      <td>8</td>\n",
       "      <td>9</td>\n",
       "      <td>10</td>\n",
       "      <td>11</td>\n",
       "    </tr>\n",
       "    <tr>\n",
       "      <th>3</th>\n",
       "      <td>Row4</td>\n",
       "      <td>12</td>\n",
       "      <td>13</td>\n",
       "      <td>14</td>\n",
       "      <td>15</td>\n",
       "    </tr>\n",
       "    <tr>\n",
       "      <th>4</th>\n",
       "      <td>Row5</td>\n",
       "      <td>16</td>\n",
       "      <td>17</td>\n",
       "      <td>18</td>\n",
       "      <td>19</td>\n",
       "    </tr>\n",
       "  </tbody>\n",
       "</table>\n",
       "</div>"
      ],
      "text/plain": [
       "  Unnamed: 0  Col1  Col2  Col3  Col4\n",
       "2       Row3     8     9    10    11\n",
       "3       Row4    12    13    14    15\n",
       "4       Row5    16    17    18    19"
      ]
     },
     "execution_count": 28,
     "metadata": {},
     "output_type": "execute_result"
    }
   ],
   "source": [
    "df[df['Col1']>4]"
   ]
  },
  {
   "cell_type": "markdown",
   "metadata": {},
   "source": [
    "# CSV"
   ]
  },
  {
   "cell_type": "code",
   "execution_count": 31,
   "metadata": {},
   "outputs": [],
   "source": [
    "from io import StringIO, BytesIO"
   ]
  },
  {
   "cell_type": "code",
   "execution_count": 32,
   "metadata": {},
   "outputs": [],
   "source": [
    "data=('col1,col2,col3\\n'\n",
    "     'x,y.,1\\n'\n",
    "     'a,b,2\\n'\n",
    "     'c,d,3\\n')"
   ]
  },
  {
   "cell_type": "code",
   "execution_count": 33,
   "metadata": {},
   "outputs": [
    {
     "data": {
      "text/plain": [
       "str"
      ]
     },
     "execution_count": 33,
     "metadata": {},
     "output_type": "execute_result"
    }
   ],
   "source": [
    "type(data)"
   ]
  },
  {
   "cell_type": "code",
   "execution_count": 36,
   "metadata": {},
   "outputs": [
    {
     "data": {
      "text/plain": [
       "<_io.StringIO at 0x7f6062ed8708>"
      ]
     },
     "execution_count": 36,
     "metadata": {},
     "output_type": "execute_result"
    }
   ],
   "source": [
    "StringIO()"
   ]
  },
  {
   "cell_type": "code",
   "execution_count": 34,
   "metadata": {},
   "outputs": [
    {
     "data": {
      "text/html": [
       "<div>\n",
       "<style scoped>\n",
       "    .dataframe tbody tr th:only-of-type {\n",
       "        vertical-align: middle;\n",
       "    }\n",
       "\n",
       "    .dataframe tbody tr th {\n",
       "        vertical-align: top;\n",
       "    }\n",
       "\n",
       "    .dataframe thead th {\n",
       "        text-align: right;\n",
       "    }\n",
       "</style>\n",
       "<table border=\"1\" class=\"dataframe\">\n",
       "  <thead>\n",
       "    <tr style=\"text-align: right;\">\n",
       "      <th></th>\n",
       "      <th>col1</th>\n",
       "      <th>col2</th>\n",
       "      <th>col3</th>\n",
       "    </tr>\n",
       "  </thead>\n",
       "  <tbody>\n",
       "    <tr>\n",
       "      <th>0</th>\n",
       "      <td>x</td>\n",
       "      <td>y.</td>\n",
       "      <td>1</td>\n",
       "    </tr>\n",
       "    <tr>\n",
       "      <th>1</th>\n",
       "      <td>a</td>\n",
       "      <td>b</td>\n",
       "      <td>2</td>\n",
       "    </tr>\n",
       "    <tr>\n",
       "      <th>2</th>\n",
       "      <td>c</td>\n",
       "      <td>d</td>\n",
       "      <td>3</td>\n",
       "    </tr>\n",
       "  </tbody>\n",
       "</table>\n",
       "</div>"
      ],
      "text/plain": [
       "  col1 col2  col3\n",
       "0    x   y.     1\n",
       "1    a    b     2\n",
       "2    c    d     3"
      ]
     },
     "execution_count": 34,
     "metadata": {},
     "output_type": "execute_result"
    }
   ],
   "source": [
    "pd.read_csv(StringIO(data))"
   ]
  },
  {
   "cell_type": "code",
   "execution_count": 37,
   "metadata": {},
   "outputs": [],
   "source": [
    "df = pd.read_csv(StringIO(data), usecols=['col1','col3'])"
   ]
  },
  {
   "cell_type": "code",
   "execution_count": 38,
   "metadata": {},
   "outputs": [
    {
     "data": {
      "text/html": [
       "<div>\n",
       "<style scoped>\n",
       "    .dataframe tbody tr th:only-of-type {\n",
       "        vertical-align: middle;\n",
       "    }\n",
       "\n",
       "    .dataframe tbody tr th {\n",
       "        vertical-align: top;\n",
       "    }\n",
       "\n",
       "    .dataframe thead th {\n",
       "        text-align: right;\n",
       "    }\n",
       "</style>\n",
       "<table border=\"1\" class=\"dataframe\">\n",
       "  <thead>\n",
       "    <tr style=\"text-align: right;\">\n",
       "      <th></th>\n",
       "      <th>col1</th>\n",
       "      <th>col3</th>\n",
       "    </tr>\n",
       "  </thead>\n",
       "  <tbody>\n",
       "    <tr>\n",
       "      <th>0</th>\n",
       "      <td>x</td>\n",
       "      <td>1</td>\n",
       "    </tr>\n",
       "    <tr>\n",
       "      <th>1</th>\n",
       "      <td>a</td>\n",
       "      <td>2</td>\n",
       "    </tr>\n",
       "    <tr>\n",
       "      <th>2</th>\n",
       "      <td>c</td>\n",
       "      <td>3</td>\n",
       "    </tr>\n",
       "  </tbody>\n",
       "</table>\n",
       "</div>"
      ],
      "text/plain": [
       "  col1  col3\n",
       "0    x     1\n",
       "1    a     2\n",
       "2    c     3"
      ]
     },
     "execution_count": 38,
     "metadata": {},
     "output_type": "execute_result"
    }
   ],
   "source": [
    "df"
   ]
  },
  {
   "cell_type": "code",
   "execution_count": 39,
   "metadata": {},
   "outputs": [],
   "source": [
    "df.to_csv('Test1.csv')"
   ]
  },
  {
   "cell_type": "code",
   "execution_count": 40,
   "metadata": {},
   "outputs": [],
   "source": [
    "data=('a,b,c,d\\n'\n",
    "     '1,2,3,4\\n'\n",
    "     '5,6,7,8\\n'\n",
    "     '9,10,11\\n')"
   ]
  },
  {
   "cell_type": "code",
   "execution_count": 41,
   "metadata": {},
   "outputs": [
    {
     "name": "stdout",
     "output_type": "stream",
     "text": [
      "a,b,c,d\n",
      "1,2,3,4\n",
      "5,6,7,8\n",
      "9,10,11\n",
      "\n"
     ]
    }
   ],
   "source": [
    "print(data)"
   ]
  },
  {
   "cell_type": "code",
   "execution_count": 42,
   "metadata": {},
   "outputs": [],
   "source": [
    "df=pd.read_csv(StringIO(data), dtype=object)"
   ]
  },
  {
   "cell_type": "code",
   "execution_count": 43,
   "metadata": {},
   "outputs": [
    {
     "data": {
      "text/html": [
       "<div>\n",
       "<style scoped>\n",
       "    .dataframe tbody tr th:only-of-type {\n",
       "        vertical-align: middle;\n",
       "    }\n",
       "\n",
       "    .dataframe tbody tr th {\n",
       "        vertical-align: top;\n",
       "    }\n",
       "\n",
       "    .dataframe thead th {\n",
       "        text-align: right;\n",
       "    }\n",
       "</style>\n",
       "<table border=\"1\" class=\"dataframe\">\n",
       "  <thead>\n",
       "    <tr style=\"text-align: right;\">\n",
       "      <th></th>\n",
       "      <th>a</th>\n",
       "      <th>b</th>\n",
       "      <th>c</th>\n",
       "      <th>d</th>\n",
       "    </tr>\n",
       "  </thead>\n",
       "  <tbody>\n",
       "    <tr>\n",
       "      <th>0</th>\n",
       "      <td>1</td>\n",
       "      <td>2</td>\n",
       "      <td>3</td>\n",
       "      <td>4</td>\n",
       "    </tr>\n",
       "    <tr>\n",
       "      <th>1</th>\n",
       "      <td>5</td>\n",
       "      <td>6</td>\n",
       "      <td>7</td>\n",
       "      <td>8</td>\n",
       "    </tr>\n",
       "    <tr>\n",
       "      <th>2</th>\n",
       "      <td>9</td>\n",
       "      <td>10</td>\n",
       "      <td>11</td>\n",
       "      <td>NaN</td>\n",
       "    </tr>\n",
       "  </tbody>\n",
       "</table>\n",
       "</div>"
      ],
      "text/plain": [
       "   a   b   c    d\n",
       "0  1   2   3    4\n",
       "1  5   6   7    8\n",
       "2  9  10  11  NaN"
      ]
     },
     "execution_count": 43,
     "metadata": {},
     "output_type": "execute_result"
    }
   ],
   "source": [
    "df"
   ]
  },
  {
   "cell_type": "code",
   "execution_count": 44,
   "metadata": {},
   "outputs": [
    {
     "data": {
      "text/plain": [
       "0    1\n",
       "1    5\n",
       "2    9\n",
       "Name: a, dtype: object"
      ]
     },
     "execution_count": 44,
     "metadata": {},
     "output_type": "execute_result"
    }
   ],
   "source": [
    "df['a']"
   ]
  },
  {
   "cell_type": "code",
   "execution_count": 45,
   "metadata": {},
   "outputs": [
    {
     "data": {
      "text/plain": [
       "'5'"
      ]
     },
     "execution_count": 45,
     "metadata": {},
     "output_type": "execute_result"
    }
   ],
   "source": [
    "df['a'][1]"
   ]
  },
  {
   "cell_type": "code",
   "execution_count": 46,
   "metadata": {},
   "outputs": [],
   "source": [
    "data=('a,b,c,d\\n'\n",
    "     '1,2,3,4\\n'\n",
    "     '5,6,7,8\\n'\n",
    "     '9,10,11,12\\n')"
   ]
  },
  {
   "cell_type": "code",
   "execution_count": 50,
   "metadata": {},
   "outputs": [],
   "source": [
    "df=pd.read_csv(StringIO(data), dtype=float)"
   ]
  },
  {
   "cell_type": "code",
   "execution_count": 51,
   "metadata": {},
   "outputs": [
    {
     "data": {
      "text/html": [
       "<div>\n",
       "<style scoped>\n",
       "    .dataframe tbody tr th:only-of-type {\n",
       "        vertical-align: middle;\n",
       "    }\n",
       "\n",
       "    .dataframe tbody tr th {\n",
       "        vertical-align: top;\n",
       "    }\n",
       "\n",
       "    .dataframe thead th {\n",
       "        text-align: right;\n",
       "    }\n",
       "</style>\n",
       "<table border=\"1\" class=\"dataframe\">\n",
       "  <thead>\n",
       "    <tr style=\"text-align: right;\">\n",
       "      <th></th>\n",
       "      <th>a</th>\n",
       "      <th>b</th>\n",
       "      <th>c</th>\n",
       "      <th>d</th>\n",
       "    </tr>\n",
       "  </thead>\n",
       "  <tbody>\n",
       "    <tr>\n",
       "      <th>0</th>\n",
       "      <td>1.0</td>\n",
       "      <td>2.0</td>\n",
       "      <td>3.0</td>\n",
       "      <td>4.0</td>\n",
       "    </tr>\n",
       "    <tr>\n",
       "      <th>1</th>\n",
       "      <td>5.0</td>\n",
       "      <td>6.0</td>\n",
       "      <td>7.0</td>\n",
       "      <td>8.0</td>\n",
       "    </tr>\n",
       "    <tr>\n",
       "      <th>2</th>\n",
       "      <td>9.0</td>\n",
       "      <td>10.0</td>\n",
       "      <td>11.0</td>\n",
       "      <td>12.0</td>\n",
       "    </tr>\n",
       "  </tbody>\n",
       "</table>\n",
       "</div>"
      ],
      "text/plain": [
       "     a     b     c     d\n",
       "0  1.0   2.0   3.0   4.0\n",
       "1  5.0   6.0   7.0   8.0\n",
       "2  9.0  10.0  11.0  12.0"
      ]
     },
     "execution_count": 51,
     "metadata": {},
     "output_type": "execute_result"
    }
   ],
   "source": [
    "df"
   ]
  },
  {
   "cell_type": "code",
   "execution_count": 52,
   "metadata": {},
   "outputs": [
    {
     "data": {
      "text/plain": [
       "0    1.0\n",
       "1    5.0\n",
       "2    9.0\n",
       "Name: a, dtype: float64"
      ]
     },
     "execution_count": 52,
     "metadata": {},
     "output_type": "execute_result"
    }
   ],
   "source": [
    "df['a']"
   ]
  },
  {
   "cell_type": "code",
   "execution_count": 53,
   "metadata": {},
   "outputs": [],
   "source": [
    "df=pd.read_csv(StringIO(data), dtype={'a': object, 'b':float, 'c':int})"
   ]
  },
  {
   "cell_type": "code",
   "execution_count": 54,
   "metadata": {},
   "outputs": [
    {
     "data": {
      "text/html": [
       "<div>\n",
       "<style scoped>\n",
       "    .dataframe tbody tr th:only-of-type {\n",
       "        vertical-align: middle;\n",
       "    }\n",
       "\n",
       "    .dataframe tbody tr th {\n",
       "        vertical-align: top;\n",
       "    }\n",
       "\n",
       "    .dataframe thead th {\n",
       "        text-align: right;\n",
       "    }\n",
       "</style>\n",
       "<table border=\"1\" class=\"dataframe\">\n",
       "  <thead>\n",
       "    <tr style=\"text-align: right;\">\n",
       "      <th></th>\n",
       "      <th>a</th>\n",
       "      <th>b</th>\n",
       "      <th>c</th>\n",
       "      <th>d</th>\n",
       "    </tr>\n",
       "  </thead>\n",
       "  <tbody>\n",
       "    <tr>\n",
       "      <th>0</th>\n",
       "      <td>1</td>\n",
       "      <td>2.0</td>\n",
       "      <td>3</td>\n",
       "      <td>4</td>\n",
       "    </tr>\n",
       "    <tr>\n",
       "      <th>1</th>\n",
       "      <td>5</td>\n",
       "      <td>6.0</td>\n",
       "      <td>7</td>\n",
       "      <td>8</td>\n",
       "    </tr>\n",
       "    <tr>\n",
       "      <th>2</th>\n",
       "      <td>9</td>\n",
       "      <td>10.0</td>\n",
       "      <td>11</td>\n",
       "      <td>12</td>\n",
       "    </tr>\n",
       "  </tbody>\n",
       "</table>\n",
       "</div>"
      ],
      "text/plain": [
       "   a     b   c   d\n",
       "0  1   2.0   3   4\n",
       "1  5   6.0   7   8\n",
       "2  9  10.0  11  12"
      ]
     },
     "execution_count": 54,
     "metadata": {},
     "output_type": "execute_result"
    }
   ],
   "source": [
    "df"
   ]
  },
  {
   "cell_type": "code",
   "execution_count": 55,
   "metadata": {},
   "outputs": [
    {
     "data": {
      "text/plain": [
       "0    1\n",
       "1    5\n",
       "2    9\n",
       "Name: a, dtype: object"
      ]
     },
     "execution_count": 55,
     "metadata": {},
     "output_type": "execute_result"
    }
   ],
   "source": [
    "df['a']"
   ]
  },
  {
   "cell_type": "code",
   "execution_count": 57,
   "metadata": {},
   "outputs": [
    {
     "data": {
      "text/plain": [
       "0     2.0\n",
       "1     6.0\n",
       "2    10.0\n",
       "Name: b, dtype: float64"
      ]
     },
     "execution_count": 57,
     "metadata": {},
     "output_type": "execute_result"
    }
   ],
   "source": [
    "df['b']"
   ]
  },
  {
   "cell_type": "code",
   "execution_count": 58,
   "metadata": {},
   "outputs": [
    {
     "data": {
      "text/plain": [
       "0     3\n",
       "1     7\n",
       "2    11\n",
       "Name: c, dtype: int64"
      ]
     },
     "execution_count": 58,
     "metadata": {},
     "output_type": "execute_result"
    }
   ],
   "source": [
    "df['c']"
   ]
  },
  {
   "cell_type": "code",
   "execution_count": 59,
   "metadata": {},
   "outputs": [
    {
     "data": {
      "text/plain": [
       "a     object\n",
       "b    float64\n",
       "c      int64\n",
       "d      int64\n",
       "dtype: object"
      ]
     },
     "execution_count": 59,
     "metadata": {},
     "output_type": "execute_result"
    }
   ],
   "source": [
    "df.dtypes"
   ]
  },
  {
   "cell_type": "code",
   "execution_count": 60,
   "metadata": {},
   "outputs": [],
   "source": [
    "data=('index,a,b,c\\n'\n",
    "     '4,apple,bat,5.7\\n'\n",
    "     '8,orange,cat,10\\n')"
   ]
  },
  {
   "cell_type": "code",
   "execution_count": 66,
   "metadata": {},
   "outputs": [
    {
     "data": {
      "text/html": [
       "<div>\n",
       "<style scoped>\n",
       "    .dataframe tbody tr th:only-of-type {\n",
       "        vertical-align: middle;\n",
       "    }\n",
       "\n",
       "    .dataframe tbody tr th {\n",
       "        vertical-align: top;\n",
       "    }\n",
       "\n",
       "    .dataframe thead th {\n",
       "        text-align: right;\n",
       "    }\n",
       "</style>\n",
       "<table border=\"1\" class=\"dataframe\">\n",
       "  <thead>\n",
       "    <tr style=\"text-align: right;\">\n",
       "      <th></th>\n",
       "      <th>a</th>\n",
       "      <th>b</th>\n",
       "      <th>c</th>\n",
       "    </tr>\n",
       "    <tr>\n",
       "      <th>index</th>\n",
       "      <th></th>\n",
       "      <th></th>\n",
       "      <th></th>\n",
       "    </tr>\n",
       "  </thead>\n",
       "  <tbody>\n",
       "    <tr>\n",
       "      <th>4</th>\n",
       "      <td>apple</td>\n",
       "      <td>bat</td>\n",
       "      <td>5.7</td>\n",
       "    </tr>\n",
       "    <tr>\n",
       "      <th>8</th>\n",
       "      <td>orange</td>\n",
       "      <td>cat</td>\n",
       "      <td>10.0</td>\n",
       "    </tr>\n",
       "  </tbody>\n",
       "</table>\n",
       "</div>"
      ],
      "text/plain": [
       "            a    b     c\n",
       "index                   \n",
       "4       apple  bat   5.7\n",
       "8      orange  cat  10.0"
      ]
     },
     "execution_count": 66,
     "metadata": {},
     "output_type": "execute_result"
    }
   ],
   "source": [
    "pd.read_csv(StringIO(data), index_col = 0)"
   ]
  },
  {
   "cell_type": "code",
   "execution_count": 69,
   "metadata": {},
   "outputs": [],
   "source": [
    "data=('a,b,c\\n'\n",
    "     '4,apple,bat,\\n'\n",
    "     '8,orange,cat,\\n')"
   ]
  },
  {
   "cell_type": "code",
   "execution_count": 70,
   "metadata": {},
   "outputs": [
    {
     "data": {
      "text/html": [
       "<div>\n",
       "<style scoped>\n",
       "    .dataframe tbody tr th:only-of-type {\n",
       "        vertical-align: middle;\n",
       "    }\n",
       "\n",
       "    .dataframe tbody tr th {\n",
       "        vertical-align: top;\n",
       "    }\n",
       "\n",
       "    .dataframe thead th {\n",
       "        text-align: right;\n",
       "    }\n",
       "</style>\n",
       "<table border=\"1\" class=\"dataframe\">\n",
       "  <thead>\n",
       "    <tr style=\"text-align: right;\">\n",
       "      <th></th>\n",
       "      <th>a</th>\n",
       "      <th>b</th>\n",
       "      <th>c</th>\n",
       "    </tr>\n",
       "  </thead>\n",
       "  <tbody>\n",
       "    <tr>\n",
       "      <th>4</th>\n",
       "      <td>apple</td>\n",
       "      <td>bat</td>\n",
       "      <td>NaN</td>\n",
       "    </tr>\n",
       "    <tr>\n",
       "      <th>8</th>\n",
       "      <td>orange</td>\n",
       "      <td>cat</td>\n",
       "      <td>NaN</td>\n",
       "    </tr>\n",
       "  </tbody>\n",
       "</table>\n",
       "</div>"
      ],
      "text/plain": [
       "        a    b   c\n",
       "4   apple  bat NaN\n",
       "8  orange  cat NaN"
      ]
     },
     "execution_count": 70,
     "metadata": {},
     "output_type": "execute_result"
    }
   ],
   "source": [
    "pd.read_csv(StringIO(data))"
   ]
  },
  {
   "cell_type": "code",
   "execution_count": 71,
   "metadata": {},
   "outputs": [],
   "source": [
    "data=('a,b,c\\n'\n",
    "     '4,apple,bat,\\n'\n",
    "     '8,orange,cat,\\n')"
   ]
  },
  {
   "cell_type": "code",
   "execution_count": 72,
   "metadata": {},
   "outputs": [
    {
     "data": {
      "text/html": [
       "<div>\n",
       "<style scoped>\n",
       "    .dataframe tbody tr th:only-of-type {\n",
       "        vertical-align: middle;\n",
       "    }\n",
       "\n",
       "    .dataframe tbody tr th {\n",
       "        vertical-align: top;\n",
       "    }\n",
       "\n",
       "    .dataframe thead th {\n",
       "        text-align: right;\n",
       "    }\n",
       "</style>\n",
       "<table border=\"1\" class=\"dataframe\">\n",
       "  <thead>\n",
       "    <tr style=\"text-align: right;\">\n",
       "      <th></th>\n",
       "      <th>a</th>\n",
       "      <th>b</th>\n",
       "      <th>c</th>\n",
       "    </tr>\n",
       "  </thead>\n",
       "  <tbody>\n",
       "    <tr>\n",
       "      <th>0</th>\n",
       "      <td>4</td>\n",
       "      <td>apple</td>\n",
       "      <td>bat</td>\n",
       "    </tr>\n",
       "    <tr>\n",
       "      <th>1</th>\n",
       "      <td>8</td>\n",
       "      <td>orange</td>\n",
       "      <td>cat</td>\n",
       "    </tr>\n",
       "  </tbody>\n",
       "</table>\n",
       "</div>"
      ],
      "text/plain": [
       "   a       b    c\n",
       "0  4   apple  bat\n",
       "1  8  orange  cat"
      ]
     },
     "execution_count": 72,
     "metadata": {},
     "output_type": "execute_result"
    }
   ],
   "source": [
    "pd.read_csv(StringIO(data), index_col=False)"
   ]
  },
  {
   "cell_type": "code",
   "execution_count": 73,
   "metadata": {},
   "outputs": [],
   "source": [
    "data=('a,b,c\\n'\n",
    "     '4,apple,bat,\\n'\n",
    "     '8,orange,cat,\\n')"
   ]
  },
  {
   "cell_type": "code",
   "execution_count": 75,
   "metadata": {},
   "outputs": [
    {
     "data": {
      "text/html": [
       "<div>\n",
       "<style scoped>\n",
       "    .dataframe tbody tr th:only-of-type {\n",
       "        vertical-align: middle;\n",
       "    }\n",
       "\n",
       "    .dataframe tbody tr th {\n",
       "        vertical-align: top;\n",
       "    }\n",
       "\n",
       "    .dataframe thead th {\n",
       "        text-align: right;\n",
       "    }\n",
       "</style>\n",
       "<table border=\"1\" class=\"dataframe\">\n",
       "  <thead>\n",
       "    <tr style=\"text-align: right;\">\n",
       "      <th></th>\n",
       "      <th>b</th>\n",
       "      <th>c</th>\n",
       "    </tr>\n",
       "  </thead>\n",
       "  <tbody>\n",
       "    <tr>\n",
       "      <th>0</th>\n",
       "      <td>apple</td>\n",
       "      <td>bat</td>\n",
       "    </tr>\n",
       "    <tr>\n",
       "      <th>1</th>\n",
       "      <td>orange</td>\n",
       "      <td>cat</td>\n",
       "    </tr>\n",
       "  </tbody>\n",
       "</table>\n",
       "</div>"
      ],
      "text/plain": [
       "        b    c\n",
       "0   apple  bat\n",
       "1  orange  cat"
      ]
     },
     "execution_count": 75,
     "metadata": {},
     "output_type": "execute_result"
    }
   ],
   "source": [
    "pd.read_csv(StringIO(data), usecols=['b','c'], index_col=False)"
   ]
  },
  {
   "cell_type": "code",
   "execution_count": 76,
   "metadata": {},
   "outputs": [],
   "source": [
    "data='a,b\\n\"hello , \\\\\"Bob\\\\\", nice to see you\",5'"
   ]
  },
  {
   "cell_type": "code",
   "execution_count": 108,
   "metadata": {},
   "outputs": [
    {
     "data": {
      "text/html": [
       "<div>\n",
       "<style scoped>\n",
       "    .dataframe tbody tr th:only-of-type {\n",
       "        vertical-align: middle;\n",
       "    }\n",
       "\n",
       "    .dataframe tbody tr th {\n",
       "        vertical-align: top;\n",
       "    }\n",
       "\n",
       "    .dataframe thead th {\n",
       "        text-align: right;\n",
       "    }\n",
       "</style>\n",
       "<table border=\"1\" class=\"dataframe\">\n",
       "  <thead>\n",
       "    <tr style=\"text-align: right;\">\n",
       "      <th></th>\n",
       "      <th>a</th>\n",
       "      <th>b</th>\n",
       "    </tr>\n",
       "  </thead>\n",
       "  <tbody>\n",
       "    <tr>\n",
       "      <th>0</th>\n",
       "      <td>hello , \"Bob\", nice to see you</td>\n",
       "      <td>5</td>\n",
       "    </tr>\n",
       "  </tbody>\n",
       "</table>\n",
       "</div>"
      ],
      "text/plain": [
       "                                a  b\n",
       "0  hello , \"Bob\", nice to see you  5"
      ]
     },
     "execution_count": 108,
     "metadata": {},
     "output_type": "execute_result"
    }
   ],
   "source": [
    "pd.read_csv(StringIO(data), escapechar=\"\\\\\")"
   ]
  },
  {
   "cell_type": "code",
   "execution_count": 86,
   "metadata": {},
   "outputs": [],
   "source": [
    "# df = pd.read_csv('https://download.bls.gov/pub/time.series/cu/cu.item', \n",
    "#                  sep='\\t')\n",
    "# df.head()"
   ]
  },
  {
   "cell_type": "markdown",
   "metadata": {},
   "source": [
    "# Read JSON to CSV"
   ]
  },
  {
   "cell_type": "code",
   "execution_count": 97,
   "metadata": {},
   "outputs": [],
   "source": [
    "Data = '{\"employee_name\": \"James\", \"email\": \"james@gmail.com\", \"job_profile\": [{\"title1\": \"Team Lead\", \"title2\": \"Sr. Developer\"}]}'"
   ]
  },
  {
   "cell_type": "code",
   "execution_count": 109,
   "metadata": {},
   "outputs": [],
   "source": [
    "df1 = pd.read_json(Data) # header=None"
   ]
  },
  {
   "cell_type": "code",
   "execution_count": 111,
   "metadata": {},
   "outputs": [
    {
     "data": {
      "text/html": [
       "<div>\n",
       "<style scoped>\n",
       "    .dataframe tbody tr th:only-of-type {\n",
       "        vertical-align: middle;\n",
       "    }\n",
       "\n",
       "    .dataframe tbody tr th {\n",
       "        vertical-align: top;\n",
       "    }\n",
       "\n",
       "    .dataframe thead th {\n",
       "        text-align: right;\n",
       "    }\n",
       "</style>\n",
       "<table border=\"1\" class=\"dataframe\">\n",
       "  <thead>\n",
       "    <tr style=\"text-align: right;\">\n",
       "      <th></th>\n",
       "      <th>email</th>\n",
       "      <th>employee_name</th>\n",
       "      <th>job_profile</th>\n",
       "    </tr>\n",
       "  </thead>\n",
       "  <tbody>\n",
       "    <tr>\n",
       "      <th>0</th>\n",
       "      <td>james@gmail.com</td>\n",
       "      <td>James</td>\n",
       "      <td>{'title2': 'Sr. Developer', 'title1': 'Team Le...</td>\n",
       "    </tr>\n",
       "  </tbody>\n",
       "</table>\n",
       "</div>"
      ],
      "text/plain": [
       "             email employee_name  \\\n",
       "0  james@gmail.com         James   \n",
       "\n",
       "                                         job_profile  \n",
       "0  {'title2': 'Sr. Developer', 'title1': 'Team Le...  "
      ]
     },
     "execution_count": 111,
     "metadata": {},
     "output_type": "execute_result"
    }
   ],
   "source": [
    "df1"
   ]
  },
  {
   "cell_type": "code",
   "execution_count": 103,
   "metadata": {},
   "outputs": [
    {
     "data": {
      "text/html": [
       "<div>\n",
       "<style scoped>\n",
       "    .dataframe tbody tr th:only-of-type {\n",
       "        vertical-align: middle;\n",
       "    }\n",
       "\n",
       "    .dataframe tbody tr th {\n",
       "        vertical-align: top;\n",
       "    }\n",
       "\n",
       "    .dataframe thead th {\n",
       "        text-align: right;\n",
       "    }\n",
       "</style>\n",
       "<table border=\"1\" class=\"dataframe\">\n",
       "  <thead>\n",
       "    <tr style=\"text-align: right;\">\n",
       "      <th></th>\n",
       "      <th>0</th>\n",
       "      <th>1</th>\n",
       "      <th>2</th>\n",
       "      <th>3</th>\n",
       "      <th>4</th>\n",
       "      <th>5</th>\n",
       "      <th>6</th>\n",
       "      <th>7</th>\n",
       "      <th>8</th>\n",
       "      <th>9</th>\n",
       "      <th>10</th>\n",
       "      <th>11</th>\n",
       "      <th>12</th>\n",
       "      <th>13</th>\n",
       "      <th>14</th>\n",
       "    </tr>\n",
       "  </thead>\n",
       "  <tbody>\n",
       "    <tr>\n",
       "      <th>0</th>\n",
       "      <td>NaN</td>\n",
       "      <td>0</td>\n",
       "      <td>1.00</td>\n",
       "      <td>2.00</td>\n",
       "      <td>3.00</td>\n",
       "      <td>4.0</td>\n",
       "      <td>5</td>\n",
       "      <td>6.00</td>\n",
       "      <td>7.00</td>\n",
       "      <td>8.00</td>\n",
       "      <td>9.00</td>\n",
       "      <td>10.00</td>\n",
       "      <td>11.00</td>\n",
       "      <td>12.00</td>\n",
       "      <td>13</td>\n",
       "    </tr>\n",
       "    <tr>\n",
       "      <th>1</th>\n",
       "      <td>0.0</td>\n",
       "      <td>1</td>\n",
       "      <td>14.23</td>\n",
       "      <td>1.71</td>\n",
       "      <td>2.43</td>\n",
       "      <td>15.6</td>\n",
       "      <td>127</td>\n",
       "      <td>2.80</td>\n",
       "      <td>3.06</td>\n",
       "      <td>0.28</td>\n",
       "      <td>2.29</td>\n",
       "      <td>5.64</td>\n",
       "      <td>1.04</td>\n",
       "      <td>3.92</td>\n",
       "      <td>1065</td>\n",
       "    </tr>\n",
       "    <tr>\n",
       "      <th>2</th>\n",
       "      <td>1.0</td>\n",
       "      <td>1</td>\n",
       "      <td>13.20</td>\n",
       "      <td>1.78</td>\n",
       "      <td>2.14</td>\n",
       "      <td>11.2</td>\n",
       "      <td>100</td>\n",
       "      <td>2.65</td>\n",
       "      <td>2.76</td>\n",
       "      <td>0.26</td>\n",
       "      <td>1.28</td>\n",
       "      <td>4.38</td>\n",
       "      <td>1.05</td>\n",
       "      <td>3.40</td>\n",
       "      <td>1050</td>\n",
       "    </tr>\n",
       "    <tr>\n",
       "      <th>3</th>\n",
       "      <td>2.0</td>\n",
       "      <td>1</td>\n",
       "      <td>13.16</td>\n",
       "      <td>2.36</td>\n",
       "      <td>2.67</td>\n",
       "      <td>18.6</td>\n",
       "      <td>101</td>\n",
       "      <td>2.80</td>\n",
       "      <td>3.24</td>\n",
       "      <td>0.30</td>\n",
       "      <td>2.81</td>\n",
       "      <td>5.68</td>\n",
       "      <td>1.03</td>\n",
       "      <td>3.17</td>\n",
       "      <td>1185</td>\n",
       "    </tr>\n",
       "    <tr>\n",
       "      <th>4</th>\n",
       "      <td>3.0</td>\n",
       "      <td>1</td>\n",
       "      <td>14.37</td>\n",
       "      <td>1.95</td>\n",
       "      <td>2.50</td>\n",
       "      <td>16.8</td>\n",
       "      <td>113</td>\n",
       "      <td>3.85</td>\n",
       "      <td>3.49</td>\n",
       "      <td>0.24</td>\n",
       "      <td>2.18</td>\n",
       "      <td>7.80</td>\n",
       "      <td>0.86</td>\n",
       "      <td>3.45</td>\n",
       "      <td>1480</td>\n",
       "    </tr>\n",
       "  </tbody>\n",
       "</table>\n",
       "</div>"
      ],
      "text/plain": [
       "    0   1      2     3     4     5    6     7     8     9     10     11  \\\n",
       "0  NaN   0   1.00  2.00  3.00   4.0    5  6.00  7.00  8.00  9.00  10.00   \n",
       "1  0.0   1  14.23  1.71  2.43  15.6  127  2.80  3.06  0.28  2.29   5.64   \n",
       "2  1.0   1  13.20  1.78  2.14  11.2  100  2.65  2.76  0.26  1.28   4.38   \n",
       "3  2.0   1  13.16  2.36  2.67  18.6  101  2.80  3.24  0.30  2.81   5.68   \n",
       "4  3.0   1  14.37  1.95  2.50  16.8  113  3.85  3.49  0.24  2.18   7.80   \n",
       "\n",
       "      12     13    14  \n",
       "0  11.00  12.00    13  \n",
       "1   1.04   3.92  1065  \n",
       "2   1.05   3.40  1050  \n",
       "3   1.03   3.17  1185  \n",
       "4   0.86   3.45  1480  "
      ]
     },
     "execution_count": 103,
     "metadata": {},
     "output_type": "execute_result"
    }
   ],
   "source": [
    "df = pd.read_csv('wine.csv', header=None)\n",
    "df.head()"
   ]
  },
  {
   "cell_type": "code",
   "execution_count": 110,
   "metadata": {},
   "outputs": [
    {
     "data": {
      "text/plain": [
       "'{\"email\":{\"0\":\"james@gmail.com\"},\"employee_name\":{\"0\":\"James\"},\"job_profile\":{\"0\":{\"title2\":\"Sr. Developer\",\"title1\":\"Team Lead\"}}}'"
      ]
     },
     "execution_count": 110,
     "metadata": {},
     "output_type": "execute_result"
    }
   ],
   "source": [
    "df1.to_json()"
   ]
  },
  {
   "cell_type": "code",
   "execution_count": 112,
   "metadata": {},
   "outputs": [
    {
     "data": {
      "text/plain": [
       "'[{\"email\":\"james@gmail.com\",\"employee_name\":\"James\",\"job_profile\":{\"title2\":\"Sr. Developer\",\"title1\":\"Team Lead\"}}]'"
      ]
     },
     "execution_count": 112,
     "metadata": {},
     "output_type": "execute_result"
    }
   ],
   "source": [
    "df1.to_json(orient=\"records\")"
   ]
  },
  {
   "cell_type": "code",
   "execution_count": 113,
   "metadata": {},
   "outputs": [
    {
     "data": {
      "text/plain": [
       "'[{\"0\":null,\"1\":0,\"2\":1.0,\"3\":2.0,\"4\":3.0,\"5\":4.0,\"6\":5,\"7\":6.0,\"8\":7.0,\"9\":8.0,\"10\":9.0,\"11\":10.0,\"12\":11.0,\"13\":12.0,\"14\":13},{\"0\":0.0,\"1\":1,\"2\":14.23,\"3\":1.71,\"4\":2.43,\"5\":15.6,\"6\":127,\"7\":2.8,\"8\":3.06,\"9\":0.28,\"10\":2.29,\"11\":5.64,\"12\":1.04,\"13\":3.92,\"14\":1065},{\"0\":1.0,\"1\":1,\"2\":13.2,\"3\":1.78,\"4\":2.14,\"5\":11.2,\"6\":100,\"7\":2.65,\"8\":2.76,\"9\":0.26,\"10\":1.28,\"11\":4.38,\"12\":1.05,\"13\":3.4,\"14\":1050},{\"0\":2.0,\"1\":1,\"2\":13.16,\"3\":2.36,\"4\":2.67,\"5\":18.6,\"6\":101,\"7\":2.8,\"8\":3.24,\"9\":0.3,\"10\":2.81,\"11\":5.68,\"12\":1.03,\"13\":3.17,\"14\":1185},{\"0\":3.0,\"1\":1,\"2\":14.37,\"3\":1.95,\"4\":2.5,\"5\":16.8,\"6\":113,\"7\":3.85,\"8\":3.49,\"9\":0.24,\"10\":2.18,\"11\":7.8,\"12\":0.86,\"13\":3.45,\"14\":1480},{\"0\":4.0,\"1\":1,\"2\":13.24,\"3\":2.59,\"4\":2.87,\"5\":21.0,\"6\":118,\"7\":2.8,\"8\":2.69,\"9\":0.39,\"10\":1.82,\"11\":4.32,\"12\":1.04,\"13\":2.93,\"14\":735},{\"0\":5.0,\"1\":1,\"2\":14.2,\"3\":1.76,\"4\":2.45,\"5\":15.2,\"6\":112,\"7\":3.27,\"8\":3.39,\"9\":0.34,\"10\":1.97,\"11\":6.75,\"12\":1.05,\"13\":2.85,\"14\":1450},{\"0\":6.0,\"1\":1,\"2\":14.39,\"3\":1.87,\"4\":2.45,\"5\":14.6,\"6\":96,\"7\":2.5,\"8\":2.52,\"9\":0.3,\"10\":1.98,\"11\":5.25,\"12\":1.02,\"13\":3.58,\"14\":1290},{\"0\":7.0,\"1\":1,\"2\":14.06,\"3\":2.15,\"4\":2.61,\"5\":17.6,\"6\":121,\"7\":2.6,\"8\":2.51,\"9\":0.31,\"10\":1.25,\"11\":5.05,\"12\":1.06,\"13\":3.58,\"14\":1295},{\"0\":8.0,\"1\":1,\"2\":14.83,\"3\":1.64,\"4\":2.17,\"5\":14.0,\"6\":97,\"7\":2.8,\"8\":2.98,\"9\":0.29,\"10\":1.98,\"11\":5.2,\"12\":1.08,\"13\":2.85,\"14\":1045},{\"0\":9.0,\"1\":1,\"2\":13.86,\"3\":1.35,\"4\":2.27,\"5\":16.0,\"6\":98,\"7\":2.98,\"8\":3.15,\"9\":0.22,\"10\":1.85,\"11\":7.22,\"12\":1.01,\"13\":3.55,\"14\":1045},{\"0\":10.0,\"1\":1,\"2\":14.1,\"3\":2.16,\"4\":2.3,\"5\":18.0,\"6\":105,\"7\":2.95,\"8\":3.32,\"9\":0.22,\"10\":2.38,\"11\":5.75,\"12\":1.25,\"13\":3.17,\"14\":1510},{\"0\":11.0,\"1\":1,\"2\":14.12,\"3\":1.48,\"4\":2.32,\"5\":16.8,\"6\":95,\"7\":2.2,\"8\":2.43,\"9\":0.26,\"10\":1.57,\"11\":5.0,\"12\":1.17,\"13\":2.82,\"14\":1280},{\"0\":12.0,\"1\":1,\"2\":13.75,\"3\":1.73,\"4\":2.41,\"5\":16.0,\"6\":89,\"7\":2.6,\"8\":2.76,\"9\":0.29,\"10\":1.81,\"11\":5.6,\"12\":1.15,\"13\":2.9,\"14\":1320},{\"0\":13.0,\"1\":1,\"2\":14.75,\"3\":1.73,\"4\":2.39,\"5\":11.4,\"6\":91,\"7\":3.1,\"8\":3.69,\"9\":0.43,\"10\":2.81,\"11\":5.4,\"12\":1.25,\"13\":2.73,\"14\":1150},{\"0\":14.0,\"1\":1,\"2\":14.38,\"3\":1.87,\"4\":2.38,\"5\":12.0,\"6\":102,\"7\":3.3,\"8\":3.64,\"9\":0.29,\"10\":2.96,\"11\":7.5,\"12\":1.2,\"13\":3.0,\"14\":1547},{\"0\":15.0,\"1\":1,\"2\":13.63,\"3\":1.81,\"4\":2.7,\"5\":17.2,\"6\":112,\"7\":2.85,\"8\":2.91,\"9\":0.3,\"10\":1.46,\"11\":7.3,\"12\":1.28,\"13\":2.88,\"14\":1310},{\"0\":16.0,\"1\":1,\"2\":14.3,\"3\":1.92,\"4\":2.72,\"5\":20.0,\"6\":120,\"7\":2.8,\"8\":3.14,\"9\":0.33,\"10\":1.97,\"11\":6.2,\"12\":1.07,\"13\":2.65,\"14\":1280},{\"0\":17.0,\"1\":1,\"2\":13.83,\"3\":1.57,\"4\":2.62,\"5\":20.0,\"6\":115,\"7\":2.95,\"8\":3.4,\"9\":0.4,\"10\":1.72,\"11\":6.6,\"12\":1.13,\"13\":2.57,\"14\":1130},{\"0\":18.0,\"1\":1,\"2\":14.19,\"3\":1.59,\"4\":2.48,\"5\":16.5,\"6\":108,\"7\":3.3,\"8\":3.93,\"9\":0.32,\"10\":1.86,\"11\":8.7,\"12\":1.23,\"13\":2.82,\"14\":1680},{\"0\":19.0,\"1\":1,\"2\":13.64,\"3\":3.1,\"4\":2.56,\"5\":15.2,\"6\":116,\"7\":2.7,\"8\":3.03,\"9\":0.17,\"10\":1.66,\"11\":5.1,\"12\":0.96,\"13\":3.36,\"14\":845},{\"0\":20.0,\"1\":1,\"2\":14.06,\"3\":1.63,\"4\":2.28,\"5\":16.0,\"6\":126,\"7\":3.0,\"8\":3.17,\"9\":0.24,\"10\":2.1,\"11\":5.65,\"12\":1.09,\"13\":3.71,\"14\":780},{\"0\":21.0,\"1\":1,\"2\":12.93,\"3\":3.8,\"4\":2.65,\"5\":18.6,\"6\":102,\"7\":2.41,\"8\":2.41,\"9\":0.25,\"10\":1.98,\"11\":4.5,\"12\":1.03,\"13\":3.52,\"14\":770},{\"0\":22.0,\"1\":1,\"2\":13.71,\"3\":1.86,\"4\":2.36,\"5\":16.6,\"6\":101,\"7\":2.61,\"8\":2.88,\"9\":0.27,\"10\":1.69,\"11\":3.8,\"12\":1.11,\"13\":4.0,\"14\":1035},{\"0\":23.0,\"1\":1,\"2\":12.85,\"3\":1.6,\"4\":2.52,\"5\":17.8,\"6\":95,\"7\":2.48,\"8\":2.37,\"9\":0.26,\"10\":1.46,\"11\":3.93,\"12\":1.09,\"13\":3.63,\"14\":1015},{\"0\":24.0,\"1\":1,\"2\":13.5,\"3\":1.81,\"4\":2.61,\"5\":20.0,\"6\":96,\"7\":2.53,\"8\":2.61,\"9\":0.28,\"10\":1.66,\"11\":3.52,\"12\":1.12,\"13\":3.82,\"14\":845},{\"0\":25.0,\"1\":1,\"2\":13.05,\"3\":2.05,\"4\":3.22,\"5\":25.0,\"6\":124,\"7\":2.63,\"8\":2.68,\"9\":0.47,\"10\":1.92,\"11\":3.58,\"12\":1.13,\"13\":3.2,\"14\":830},{\"0\":26.0,\"1\":1,\"2\":13.39,\"3\":1.77,\"4\":2.62,\"5\":16.1,\"6\":93,\"7\":2.85,\"8\":2.94,\"9\":0.34,\"10\":1.45,\"11\":4.8,\"12\":0.92,\"13\":3.22,\"14\":1195},{\"0\":27.0,\"1\":1,\"2\":13.3,\"3\":1.72,\"4\":2.14,\"5\":17.0,\"6\":94,\"7\":2.4,\"8\":2.19,\"9\":0.27,\"10\":1.35,\"11\":3.95,\"12\":1.02,\"13\":2.77,\"14\":1285},{\"0\":28.0,\"1\":1,\"2\":13.87,\"3\":1.9,\"4\":2.8,\"5\":19.4,\"6\":107,\"7\":2.95,\"8\":2.97,\"9\":0.37,\"10\":1.76,\"11\":4.5,\"12\":1.25,\"13\":3.4,\"14\":915},{\"0\":29.0,\"1\":1,\"2\":14.02,\"3\":1.68,\"4\":2.21,\"5\":16.0,\"6\":96,\"7\":2.65,\"8\":2.33,\"9\":0.26,\"10\":1.98,\"11\":4.7,\"12\":1.04,\"13\":3.59,\"14\":1035},{\"0\":30.0,\"1\":1,\"2\":13.73,\"3\":1.5,\"4\":2.7,\"5\":22.5,\"6\":101,\"7\":3.0,\"8\":3.25,\"9\":0.29,\"10\":2.38,\"11\":5.7,\"12\":1.19,\"13\":2.71,\"14\":1285},{\"0\":31.0,\"1\":1,\"2\":13.58,\"3\":1.66,\"4\":2.36,\"5\":19.1,\"6\":106,\"7\":2.86,\"8\":3.19,\"9\":0.22,\"10\":1.95,\"11\":6.9,\"12\":1.09,\"13\":2.88,\"14\":1515},{\"0\":32.0,\"1\":1,\"2\":13.68,\"3\":1.83,\"4\":2.36,\"5\":17.2,\"6\":104,\"7\":2.42,\"8\":2.69,\"9\":0.42,\"10\":1.97,\"11\":3.84,\"12\":1.23,\"13\":2.87,\"14\":990},{\"0\":33.0,\"1\":1,\"2\":13.76,\"3\":1.53,\"4\":2.7,\"5\":19.5,\"6\":132,\"7\":2.95,\"8\":2.74,\"9\":0.5,\"10\":1.35,\"11\":5.4,\"12\":1.25,\"13\":3.0,\"14\":1235},{\"0\":34.0,\"1\":1,\"2\":13.51,\"3\":1.8,\"4\":2.65,\"5\":19.0,\"6\":110,\"7\":2.35,\"8\":2.53,\"9\":0.29,\"10\":1.54,\"11\":4.2,\"12\":1.1,\"13\":2.87,\"14\":1095},{\"0\":35.0,\"1\":1,\"2\":13.48,\"3\":1.81,\"4\":2.41,\"5\":20.5,\"6\":100,\"7\":2.7,\"8\":2.98,\"9\":0.26,\"10\":1.86,\"11\":5.1,\"12\":1.04,\"13\":3.47,\"14\":920},{\"0\":36.0,\"1\":1,\"2\":13.28,\"3\":1.64,\"4\":2.84,\"5\":15.5,\"6\":110,\"7\":2.6,\"8\":2.68,\"9\":0.34,\"10\":1.36,\"11\":4.6,\"12\":1.09,\"13\":2.78,\"14\":880},{\"0\":37.0,\"1\":1,\"2\":13.05,\"3\":1.65,\"4\":2.55,\"5\":18.0,\"6\":98,\"7\":2.45,\"8\":2.43,\"9\":0.29,\"10\":1.44,\"11\":4.25,\"12\":1.12,\"13\":2.51,\"14\":1105},{\"0\":38.0,\"1\":1,\"2\":13.07,\"3\":1.5,\"4\":2.1,\"5\":15.5,\"6\":98,\"7\":2.4,\"8\":2.64,\"9\":0.28,\"10\":1.37,\"11\":3.7,\"12\":1.18,\"13\":2.69,\"14\":1020},{\"0\":39.0,\"1\":1,\"2\":14.22,\"3\":3.99,\"4\":2.51,\"5\":13.2,\"6\":128,\"7\":3.0,\"8\":3.04,\"9\":0.2,\"10\":2.08,\"11\":5.1,\"12\":0.89,\"13\":3.53,\"14\":760},{\"0\":40.0,\"1\":1,\"2\":13.56,\"3\":1.71,\"4\":2.31,\"5\":16.2,\"6\":117,\"7\":3.15,\"8\":3.29,\"9\":0.34,\"10\":2.34,\"11\":6.13,\"12\":0.95,\"13\":3.38,\"14\":795},{\"0\":41.0,\"1\":1,\"2\":13.41,\"3\":3.84,\"4\":2.12,\"5\":18.8,\"6\":90,\"7\":2.45,\"8\":2.68,\"9\":0.27,\"10\":1.48,\"11\":4.28,\"12\":0.91,\"13\":3.0,\"14\":1035},{\"0\":42.0,\"1\":1,\"2\":13.88,\"3\":1.89,\"4\":2.59,\"5\":15.0,\"6\":101,\"7\":3.25,\"8\":3.56,\"9\":0.17,\"10\":1.7,\"11\":5.43,\"12\":0.88,\"13\":3.56,\"14\":1095},{\"0\":43.0,\"1\":1,\"2\":13.24,\"3\":3.98,\"4\":2.29,\"5\":17.5,\"6\":103,\"7\":2.64,\"8\":2.63,\"9\":0.32,\"10\":1.66,\"11\":4.36,\"12\":0.82,\"13\":3.0,\"14\":680},{\"0\":44.0,\"1\":1,\"2\":13.05,\"3\":1.77,\"4\":2.1,\"5\":17.0,\"6\":107,\"7\":3.0,\"8\":3.0,\"9\":0.28,\"10\":2.03,\"11\":5.04,\"12\":0.88,\"13\":3.35,\"14\":885},{\"0\":45.0,\"1\":1,\"2\":14.21,\"3\":4.04,\"4\":2.44,\"5\":18.9,\"6\":111,\"7\":2.85,\"8\":2.65,\"9\":0.3,\"10\":1.25,\"11\":5.24,\"12\":0.87,\"13\":3.33,\"14\":1080},{\"0\":46.0,\"1\":1,\"2\":14.38,\"3\":3.59,\"4\":2.28,\"5\":16.0,\"6\":102,\"7\":3.25,\"8\":3.17,\"9\":0.27,\"10\":2.19,\"11\":4.9,\"12\":1.04,\"13\":3.44,\"14\":1065},{\"0\":47.0,\"1\":1,\"2\":13.9,\"3\":1.68,\"4\":2.12,\"5\":16.0,\"6\":101,\"7\":3.1,\"8\":3.39,\"9\":0.21,\"10\":2.14,\"11\":6.1,\"12\":0.91,\"13\":3.33,\"14\":985},{\"0\":48.0,\"1\":1,\"2\":14.1,\"3\":2.02,\"4\":2.4,\"5\":18.8,\"6\":103,\"7\":2.75,\"8\":2.92,\"9\":0.32,\"10\":2.38,\"11\":6.2,\"12\":1.07,\"13\":2.75,\"14\":1060},{\"0\":49.0,\"1\":1,\"2\":13.94,\"3\":1.73,\"4\":2.27,\"5\":17.4,\"6\":108,\"7\":2.88,\"8\":3.54,\"9\":0.32,\"10\":2.08,\"11\":8.9,\"12\":1.12,\"13\":3.1,\"14\":1260},{\"0\":50.0,\"1\":1,\"2\":13.05,\"3\":1.73,\"4\":2.04,\"5\":12.4,\"6\":92,\"7\":2.72,\"8\":3.27,\"9\":0.17,\"10\":2.91,\"11\":7.2,\"12\":1.12,\"13\":2.91,\"14\":1150},{\"0\":51.0,\"1\":1,\"2\":13.83,\"3\":1.65,\"4\":2.6,\"5\":17.2,\"6\":94,\"7\":2.45,\"8\":2.99,\"9\":0.22,\"10\":2.29,\"11\":5.6,\"12\":1.24,\"13\":3.37,\"14\":1265},{\"0\":52.0,\"1\":1,\"2\":13.82,\"3\":1.75,\"4\":2.42,\"5\":14.0,\"6\":111,\"7\":3.88,\"8\":3.74,\"9\":0.32,\"10\":1.87,\"11\":7.05,\"12\":1.01,\"13\":3.26,\"14\":1190},{\"0\":53.0,\"1\":1,\"2\":13.77,\"3\":1.9,\"4\":2.68,\"5\":17.1,\"6\":115,\"7\":3.0,\"8\":2.79,\"9\":0.39,\"10\":1.68,\"11\":6.3,\"12\":1.13,\"13\":2.93,\"14\":1375},{\"0\":54.0,\"1\":1,\"2\":13.74,\"3\":1.67,\"4\":2.25,\"5\":16.4,\"6\":118,\"7\":2.6,\"8\":2.9,\"9\":0.21,\"10\":1.62,\"11\":5.85,\"12\":0.92,\"13\":3.2,\"14\":1060},{\"0\":55.0,\"1\":1,\"2\":13.56,\"3\":1.73,\"4\":2.46,\"5\":20.5,\"6\":116,\"7\":2.96,\"8\":2.78,\"9\":0.2,\"10\":2.45,\"11\":6.25,\"12\":0.98,\"13\":3.03,\"14\":1120},{\"0\":56.0,\"1\":1,\"2\":14.22,\"3\":1.7,\"4\":2.3,\"5\":16.3,\"6\":118,\"7\":3.2,\"8\":3.0,\"9\":0.26,\"10\":2.03,\"11\":6.38,\"12\":0.94,\"13\":3.31,\"14\":970},{\"0\":57.0,\"1\":1,\"2\":13.29,\"3\":1.97,\"4\":2.68,\"5\":16.8,\"6\":102,\"7\":3.0,\"8\":3.23,\"9\":0.31,\"10\":1.66,\"11\":6.0,\"12\":1.07,\"13\":2.84,\"14\":1270},{\"0\":58.0,\"1\":1,\"2\":13.72,\"3\":1.43,\"4\":2.5,\"5\":16.7,\"6\":108,\"7\":3.4,\"8\":3.67,\"9\":0.19,\"10\":2.04,\"11\":6.8,\"12\":0.89,\"13\":2.87,\"14\":1285},{\"0\":59.0,\"1\":2,\"2\":12.37,\"3\":0.94,\"4\":1.36,\"5\":10.6,\"6\":88,\"7\":1.98,\"8\":0.57,\"9\":0.28,\"10\":0.42,\"11\":1.95,\"12\":1.05,\"13\":1.82,\"14\":520},{\"0\":60.0,\"1\":2,\"2\":12.33,\"3\":1.1,\"4\":2.28,\"5\":16.0,\"6\":101,\"7\":2.05,\"8\":1.09,\"9\":0.63,\"10\":0.41,\"11\":3.27,\"12\":1.25,\"13\":1.67,\"14\":680},{\"0\":61.0,\"1\":2,\"2\":12.64,\"3\":1.36,\"4\":2.02,\"5\":16.8,\"6\":100,\"7\":2.02,\"8\":1.41,\"9\":0.53,\"10\":0.62,\"11\":5.75,\"12\":0.98,\"13\":1.59,\"14\":450},{\"0\":62.0,\"1\":2,\"2\":13.67,\"3\":1.25,\"4\":1.92,\"5\":18.0,\"6\":94,\"7\":2.1,\"8\":1.79,\"9\":0.32,\"10\":0.73,\"11\":3.8,\"12\":1.23,\"13\":2.46,\"14\":630},{\"0\":63.0,\"1\":2,\"2\":12.37,\"3\":1.13,\"4\":2.16,\"5\":19.0,\"6\":87,\"7\":3.5,\"8\":3.1,\"9\":0.19,\"10\":1.87,\"11\":4.45,\"12\":1.22,\"13\":2.87,\"14\":420},{\"0\":64.0,\"1\":2,\"2\":12.17,\"3\":1.45,\"4\":2.53,\"5\":19.0,\"6\":104,\"7\":1.89,\"8\":1.75,\"9\":0.45,\"10\":1.03,\"11\":2.95,\"12\":1.45,\"13\":2.23,\"14\":355},{\"0\":65.0,\"1\":2,\"2\":12.37,\"3\":1.21,\"4\":2.56,\"5\":18.1,\"6\":98,\"7\":2.42,\"8\":2.65,\"9\":0.37,\"10\":2.08,\"11\":4.6,\"12\":1.19,\"13\":2.3,\"14\":678},{\"0\":66.0,\"1\":2,\"2\":13.11,\"3\":1.01,\"4\":1.7,\"5\":15.0,\"6\":78,\"7\":2.98,\"8\":3.18,\"9\":0.26,\"10\":2.28,\"11\":5.3,\"12\":1.12,\"13\":3.18,\"14\":502},{\"0\":67.0,\"1\":2,\"2\":12.37,\"3\":1.17,\"4\":1.92,\"5\":19.6,\"6\":78,\"7\":2.11,\"8\":2.0,\"9\":0.27,\"10\":1.04,\"11\":4.68,\"12\":1.12,\"13\":3.48,\"14\":510},{\"0\":68.0,\"1\":2,\"2\":13.34,\"3\":0.94,\"4\":2.36,\"5\":17.0,\"6\":110,\"7\":2.53,\"8\":1.3,\"9\":0.55,\"10\":0.42,\"11\":3.17,\"12\":1.02,\"13\":1.93,\"14\":750},{\"0\":69.0,\"1\":2,\"2\":12.21,\"3\":1.19,\"4\":1.75,\"5\":16.8,\"6\":151,\"7\":1.85,\"8\":1.28,\"9\":0.14,\"10\":2.5,\"11\":2.85,\"12\":1.28,\"13\":3.07,\"14\":718},{\"0\":70.0,\"1\":2,\"2\":12.29,\"3\":1.61,\"4\":2.21,\"5\":20.4,\"6\":103,\"7\":1.1,\"8\":1.02,\"9\":0.37,\"10\":1.46,\"11\":3.05,\"12\":0.906,\"13\":1.82,\"14\":870},{\"0\":71.0,\"1\":2,\"2\":13.86,\"3\":1.51,\"4\":2.67,\"5\":25.0,\"6\":86,\"7\":2.95,\"8\":2.86,\"9\":0.21,\"10\":1.87,\"11\":3.38,\"12\":1.36,\"13\":3.16,\"14\":410},{\"0\":72.0,\"1\":2,\"2\":13.49,\"3\":1.66,\"4\":2.24,\"5\":24.0,\"6\":87,\"7\":1.88,\"8\":1.84,\"9\":0.27,\"10\":1.03,\"11\":3.74,\"12\":0.98,\"13\":2.78,\"14\":472},{\"0\":73.0,\"1\":2,\"2\":12.99,\"3\":1.67,\"4\":2.6,\"5\":30.0,\"6\":139,\"7\":3.3,\"8\":2.89,\"9\":0.21,\"10\":1.96,\"11\":3.35,\"12\":1.31,\"13\":3.5,\"14\":985},{\"0\":74.0,\"1\":2,\"2\":11.96,\"3\":1.09,\"4\":2.3,\"5\":21.0,\"6\":101,\"7\":3.38,\"8\":2.14,\"9\":0.13,\"10\":1.65,\"11\":3.21,\"12\":0.99,\"13\":3.13,\"14\":886},{\"0\":75.0,\"1\":2,\"2\":11.66,\"3\":1.88,\"4\":1.92,\"5\":16.0,\"6\":97,\"7\":1.61,\"8\":1.57,\"9\":0.34,\"10\":1.15,\"11\":3.8,\"12\":1.23,\"13\":2.14,\"14\":428},{\"0\":76.0,\"1\":2,\"2\":13.03,\"3\":0.9,\"4\":1.71,\"5\":16.0,\"6\":86,\"7\":1.95,\"8\":2.03,\"9\":0.24,\"10\":1.46,\"11\":4.6,\"12\":1.19,\"13\":2.48,\"14\":392},{\"0\":77.0,\"1\":2,\"2\":11.84,\"3\":2.89,\"4\":2.23,\"5\":18.0,\"6\":112,\"7\":1.72,\"8\":1.32,\"9\":0.43,\"10\":0.95,\"11\":2.65,\"12\":0.96,\"13\":2.52,\"14\":500},{\"0\":78.0,\"1\":2,\"2\":12.33,\"3\":0.99,\"4\":1.95,\"5\":14.8,\"6\":136,\"7\":1.9,\"8\":1.85,\"9\":0.35,\"10\":2.76,\"11\":3.4,\"12\":1.06,\"13\":2.31,\"14\":750},{\"0\":79.0,\"1\":2,\"2\":12.7,\"3\":3.87,\"4\":2.4,\"5\":23.0,\"6\":101,\"7\":2.83,\"8\":2.55,\"9\":0.43,\"10\":1.95,\"11\":2.57,\"12\":1.19,\"13\":3.13,\"14\":463},{\"0\":80.0,\"1\":2,\"2\":12.0,\"3\":0.92,\"4\":2.0,\"5\":19.0,\"6\":86,\"7\":2.42,\"8\":2.26,\"9\":0.3,\"10\":1.43,\"11\":2.5,\"12\":1.38,\"13\":3.12,\"14\":278},{\"0\":81.0,\"1\":2,\"2\":12.72,\"3\":1.81,\"4\":2.2,\"5\":18.8,\"6\":86,\"7\":2.2,\"8\":2.53,\"9\":0.26,\"10\":1.77,\"11\":3.9,\"12\":1.16,\"13\":3.14,\"14\":714},{\"0\":82.0,\"1\":2,\"2\":12.08,\"3\":1.13,\"4\":2.51,\"5\":24.0,\"6\":78,\"7\":2.0,\"8\":1.58,\"9\":0.4,\"10\":1.4,\"11\":2.2,\"12\":1.31,\"13\":2.72,\"14\":630},{\"0\":83.0,\"1\":2,\"2\":13.05,\"3\":3.86,\"4\":2.32,\"5\":22.5,\"6\":85,\"7\":1.65,\"8\":1.59,\"9\":0.61,\"10\":1.62,\"11\":4.8,\"12\":0.84,\"13\":2.01,\"14\":515},{\"0\":84.0,\"1\":2,\"2\":11.84,\"3\":0.89,\"4\":2.58,\"5\":18.0,\"6\":94,\"7\":2.2,\"8\":2.21,\"9\":0.22,\"10\":2.35,\"11\":3.05,\"12\":0.79,\"13\":3.08,\"14\":520},{\"0\":85.0,\"1\":2,\"2\":12.67,\"3\":0.98,\"4\":2.24,\"5\":18.0,\"6\":99,\"7\":2.2,\"8\":1.94,\"9\":0.3,\"10\":1.46,\"11\":2.62,\"12\":1.23,\"13\":3.16,\"14\":450},{\"0\":86.0,\"1\":2,\"2\":12.16,\"3\":1.61,\"4\":2.31,\"5\":22.8,\"6\":90,\"7\":1.78,\"8\":1.69,\"9\":0.43,\"10\":1.56,\"11\":2.45,\"12\":1.33,\"13\":2.26,\"14\":495},{\"0\":87.0,\"1\":2,\"2\":11.65,\"3\":1.67,\"4\":2.62,\"5\":26.0,\"6\":88,\"7\":1.92,\"8\":1.61,\"9\":0.4,\"10\":1.34,\"11\":2.6,\"12\":1.36,\"13\":3.21,\"14\":562},{\"0\":88.0,\"1\":2,\"2\":11.64,\"3\":2.06,\"4\":2.46,\"5\":21.6,\"6\":84,\"7\":1.95,\"8\":1.69,\"9\":0.48,\"10\":1.35,\"11\":2.8,\"12\":1.0,\"13\":2.75,\"14\":680},{\"0\":89.0,\"1\":2,\"2\":12.08,\"3\":1.33,\"4\":2.3,\"5\":23.6,\"6\":70,\"7\":2.2,\"8\":1.59,\"9\":0.42,\"10\":1.38,\"11\":1.74,\"12\":1.07,\"13\":3.21,\"14\":625},{\"0\":90.0,\"1\":2,\"2\":12.08,\"3\":1.83,\"4\":2.32,\"5\":18.5,\"6\":81,\"7\":1.6,\"8\":1.5,\"9\":0.52,\"10\":1.64,\"11\":2.4,\"12\":1.08,\"13\":2.27,\"14\":480},{\"0\":91.0,\"1\":2,\"2\":12.0,\"3\":1.51,\"4\":2.42,\"5\":22.0,\"6\":86,\"7\":1.45,\"8\":1.25,\"9\":0.5,\"10\":1.63,\"11\":3.6,\"12\":1.05,\"13\":2.65,\"14\":450},{\"0\":92.0,\"1\":2,\"2\":12.69,\"3\":1.53,\"4\":2.26,\"5\":20.7,\"6\":80,\"7\":1.38,\"8\":1.46,\"9\":0.58,\"10\":1.62,\"11\":3.05,\"12\":0.96,\"13\":2.06,\"14\":495},{\"0\":93.0,\"1\":2,\"2\":12.29,\"3\":2.83,\"4\":2.22,\"5\":18.0,\"6\":88,\"7\":2.45,\"8\":2.25,\"9\":0.25,\"10\":1.99,\"11\":2.15,\"12\":1.15,\"13\":3.3,\"14\":290},{\"0\":94.0,\"1\":2,\"2\":11.62,\"3\":1.99,\"4\":2.28,\"5\":18.0,\"6\":98,\"7\":3.02,\"8\":2.26,\"9\":0.17,\"10\":1.35,\"11\":3.25,\"12\":1.16,\"13\":2.96,\"14\":345},{\"0\":95.0,\"1\":2,\"2\":12.47,\"3\":1.52,\"4\":2.2,\"5\":19.0,\"6\":162,\"7\":2.5,\"8\":2.27,\"9\":0.32,\"10\":3.28,\"11\":2.6,\"12\":1.16,\"13\":2.63,\"14\":937},{\"0\":96.0,\"1\":2,\"2\":11.81,\"3\":2.12,\"4\":2.74,\"5\":21.5,\"6\":134,\"7\":1.6,\"8\":0.99,\"9\":0.14,\"10\":1.56,\"11\":2.5,\"12\":0.95,\"13\":2.26,\"14\":625},{\"0\":97.0,\"1\":2,\"2\":12.29,\"3\":1.41,\"4\":1.98,\"5\":16.0,\"6\":85,\"7\":2.55,\"8\":2.5,\"9\":0.29,\"10\":1.77,\"11\":2.9,\"12\":1.23,\"13\":2.74,\"14\":428},{\"0\":98.0,\"1\":2,\"2\":12.37,\"3\":1.07,\"4\":2.1,\"5\":18.5,\"6\":88,\"7\":3.52,\"8\":3.75,\"9\":0.24,\"10\":1.95,\"11\":4.5,\"12\":1.04,\"13\":2.77,\"14\":660},{\"0\":99.0,\"1\":2,\"2\":12.29,\"3\":3.17,\"4\":2.21,\"5\":18.0,\"6\":88,\"7\":2.85,\"8\":2.99,\"9\":0.45,\"10\":2.81,\"11\":2.3,\"12\":1.42,\"13\":2.83,\"14\":406},{\"0\":100.0,\"1\":2,\"2\":12.08,\"3\":2.08,\"4\":1.7,\"5\":17.5,\"6\":97,\"7\":2.23,\"8\":2.17,\"9\":0.26,\"10\":1.4,\"11\":3.3,\"12\":1.27,\"13\":2.96,\"14\":710},{\"0\":101.0,\"1\":2,\"2\":12.6,\"3\":1.34,\"4\":1.9,\"5\":18.5,\"6\":88,\"7\":1.45,\"8\":1.36,\"9\":0.29,\"10\":1.35,\"11\":2.45,\"12\":1.04,\"13\":2.77,\"14\":562},{\"0\":102.0,\"1\":2,\"2\":12.34,\"3\":2.45,\"4\":2.46,\"5\":21.0,\"6\":98,\"7\":2.56,\"8\":2.11,\"9\":0.34,\"10\":1.31,\"11\":2.8,\"12\":0.8,\"13\":3.38,\"14\":438},{\"0\":103.0,\"1\":2,\"2\":11.82,\"3\":1.72,\"4\":1.88,\"5\":19.5,\"6\":86,\"7\":2.5,\"8\":1.64,\"9\":0.37,\"10\":1.42,\"11\":2.06,\"12\":0.94,\"13\":2.44,\"14\":415},{\"0\":104.0,\"1\":2,\"2\":12.51,\"3\":1.73,\"4\":1.98,\"5\":20.5,\"6\":85,\"7\":2.2,\"8\":1.92,\"9\":0.32,\"10\":1.48,\"11\":2.94,\"12\":1.04,\"13\":3.57,\"14\":672},{\"0\":105.0,\"1\":2,\"2\":12.42,\"3\":2.55,\"4\":2.27,\"5\":22.0,\"6\":90,\"7\":1.68,\"8\":1.84,\"9\":0.66,\"10\":1.42,\"11\":2.7,\"12\":0.86,\"13\":3.3,\"14\":315},{\"0\":106.0,\"1\":2,\"2\":12.25,\"3\":1.73,\"4\":2.12,\"5\":19.0,\"6\":80,\"7\":1.65,\"8\":2.03,\"9\":0.37,\"10\":1.63,\"11\":3.4,\"12\":1.0,\"13\":3.17,\"14\":510},{\"0\":107.0,\"1\":2,\"2\":12.72,\"3\":1.75,\"4\":2.28,\"5\":22.5,\"6\":84,\"7\":1.38,\"8\":1.76,\"9\":0.48,\"10\":1.63,\"11\":3.3,\"12\":0.88,\"13\":2.42,\"14\":488},{\"0\":108.0,\"1\":2,\"2\":12.22,\"3\":1.29,\"4\":1.94,\"5\":19.0,\"6\":92,\"7\":2.36,\"8\":2.04,\"9\":0.39,\"10\":2.08,\"11\":2.7,\"12\":0.86,\"13\":3.02,\"14\":312},{\"0\":109.0,\"1\":2,\"2\":11.61,\"3\":1.35,\"4\":2.7,\"5\":20.0,\"6\":94,\"7\":2.74,\"8\":2.92,\"9\":0.29,\"10\":2.49,\"11\":2.65,\"12\":0.96,\"13\":3.26,\"14\":680},{\"0\":110.0,\"1\":2,\"2\":11.46,\"3\":3.74,\"4\":1.82,\"5\":19.5,\"6\":107,\"7\":3.18,\"8\":2.58,\"9\":0.24,\"10\":3.58,\"11\":2.9,\"12\":0.75,\"13\":2.81,\"14\":562},{\"0\":111.0,\"1\":2,\"2\":12.52,\"3\":2.43,\"4\":2.17,\"5\":21.0,\"6\":88,\"7\":2.55,\"8\":2.27,\"9\":0.26,\"10\":1.22,\"11\":2.0,\"12\":0.9,\"13\":2.78,\"14\":325},{\"0\":112.0,\"1\":2,\"2\":11.76,\"3\":2.68,\"4\":2.92,\"5\":20.0,\"6\":103,\"7\":1.75,\"8\":2.03,\"9\":0.6,\"10\":1.05,\"11\":3.8,\"12\":1.23,\"13\":2.5,\"14\":607},{\"0\":113.0,\"1\":2,\"2\":11.41,\"3\":0.74,\"4\":2.5,\"5\":21.0,\"6\":88,\"7\":2.48,\"8\":2.01,\"9\":0.42,\"10\":1.44,\"11\":3.08,\"12\":1.1,\"13\":2.31,\"14\":434},{\"0\":114.0,\"1\":2,\"2\":12.08,\"3\":1.39,\"4\":2.5,\"5\":22.5,\"6\":84,\"7\":2.56,\"8\":2.29,\"9\":0.43,\"10\":1.04,\"11\":2.9,\"12\":0.93,\"13\":3.19,\"14\":385},{\"0\":115.0,\"1\":2,\"2\":11.03,\"3\":1.51,\"4\":2.2,\"5\":21.5,\"6\":85,\"7\":2.46,\"8\":2.17,\"9\":0.52,\"10\":2.01,\"11\":1.9,\"12\":1.71,\"13\":2.87,\"14\":407},{\"0\":116.0,\"1\":2,\"2\":11.82,\"3\":1.47,\"4\":1.99,\"5\":20.8,\"6\":86,\"7\":1.98,\"8\":1.6,\"9\":0.3,\"10\":1.53,\"11\":1.95,\"12\":0.95,\"13\":3.33,\"14\":495},{\"0\":117.0,\"1\":2,\"2\":12.42,\"3\":1.61,\"4\":2.19,\"5\":22.5,\"6\":108,\"7\":2.0,\"8\":2.09,\"9\":0.34,\"10\":1.61,\"11\":2.06,\"12\":1.06,\"13\":2.96,\"14\":345},{\"0\":118.0,\"1\":2,\"2\":12.77,\"3\":3.43,\"4\":1.98,\"5\":16.0,\"6\":80,\"7\":1.63,\"8\":1.25,\"9\":0.43,\"10\":0.83,\"11\":3.4,\"12\":0.7,\"13\":2.12,\"14\":372},{\"0\":119.0,\"1\":2,\"2\":12.0,\"3\":3.43,\"4\":2.0,\"5\":19.0,\"6\":87,\"7\":2.0,\"8\":1.64,\"9\":0.37,\"10\":1.87,\"11\":1.28,\"12\":0.93,\"13\":3.05,\"14\":564},{\"0\":120.0,\"1\":2,\"2\":11.45,\"3\":2.4,\"4\":2.42,\"5\":20.0,\"6\":96,\"7\":2.9,\"8\":2.79,\"9\":0.32,\"10\":1.83,\"11\":3.25,\"12\":0.8,\"13\":3.39,\"14\":625},{\"0\":121.0,\"1\":2,\"2\":11.56,\"3\":2.05,\"4\":3.23,\"5\":28.5,\"6\":119,\"7\":3.18,\"8\":5.08,\"9\":0.47,\"10\":1.87,\"11\":6.0,\"12\":0.93,\"13\":3.69,\"14\":465},{\"0\":122.0,\"1\":2,\"2\":12.42,\"3\":4.43,\"4\":2.73,\"5\":26.5,\"6\":102,\"7\":2.2,\"8\":2.13,\"9\":0.43,\"10\":1.71,\"11\":2.08,\"12\":0.92,\"13\":3.12,\"14\":365},{\"0\":123.0,\"1\":2,\"2\":13.05,\"3\":5.8,\"4\":2.13,\"5\":21.5,\"6\":86,\"7\":2.62,\"8\":2.65,\"9\":0.3,\"10\":2.01,\"11\":2.6,\"12\":0.73,\"13\":3.1,\"14\":380},{\"0\":124.0,\"1\":2,\"2\":11.87,\"3\":4.31,\"4\":2.39,\"5\":21.0,\"6\":82,\"7\":2.86,\"8\":3.03,\"9\":0.21,\"10\":2.91,\"11\":2.8,\"12\":0.75,\"13\":3.64,\"14\":380},{\"0\":125.0,\"1\":2,\"2\":12.07,\"3\":2.16,\"4\":2.17,\"5\":21.0,\"6\":85,\"7\":2.6,\"8\":2.65,\"9\":0.37,\"10\":1.35,\"11\":2.76,\"12\":0.86,\"13\":3.28,\"14\":378},{\"0\":126.0,\"1\":2,\"2\":12.43,\"3\":1.53,\"4\":2.29,\"5\":21.5,\"6\":86,\"7\":2.74,\"8\":3.15,\"9\":0.39,\"10\":1.77,\"11\":3.94,\"12\":0.69,\"13\":2.84,\"14\":352},{\"0\":127.0,\"1\":2,\"2\":11.79,\"3\":2.13,\"4\":2.78,\"5\":28.5,\"6\":92,\"7\":2.13,\"8\":2.24,\"9\":0.58,\"10\":1.76,\"11\":3.0,\"12\":0.97,\"13\":2.44,\"14\":466},{\"0\":128.0,\"1\":2,\"2\":12.37,\"3\":1.63,\"4\":2.3,\"5\":24.5,\"6\":88,\"7\":2.22,\"8\":2.45,\"9\":0.4,\"10\":1.9,\"11\":2.12,\"12\":0.89,\"13\":2.78,\"14\":342},{\"0\":129.0,\"1\":2,\"2\":12.04,\"3\":4.3,\"4\":2.38,\"5\":22.0,\"6\":80,\"7\":2.1,\"8\":1.75,\"9\":0.42,\"10\":1.35,\"11\":2.6,\"12\":0.79,\"13\":2.57,\"14\":580},{\"0\":130.0,\"1\":3,\"2\":12.86,\"3\":1.35,\"4\":2.32,\"5\":18.0,\"6\":122,\"7\":1.51,\"8\":1.25,\"9\":0.21,\"10\":0.94,\"11\":4.1,\"12\":0.76,\"13\":1.29,\"14\":630},{\"0\":131.0,\"1\":3,\"2\":12.88,\"3\":2.99,\"4\":2.4,\"5\":20.0,\"6\":104,\"7\":1.3,\"8\":1.22,\"9\":0.24,\"10\":0.83,\"11\":5.4,\"12\":0.74,\"13\":1.42,\"14\":530},{\"0\":132.0,\"1\":3,\"2\":12.81,\"3\":2.31,\"4\":2.4,\"5\":24.0,\"6\":98,\"7\":1.15,\"8\":1.09,\"9\":0.27,\"10\":0.83,\"11\":5.7,\"12\":0.66,\"13\":1.36,\"14\":560},{\"0\":133.0,\"1\":3,\"2\":12.7,\"3\":3.55,\"4\":2.36,\"5\":21.5,\"6\":106,\"7\":1.7,\"8\":1.2,\"9\":0.17,\"10\":0.84,\"11\":5.0,\"12\":0.78,\"13\":1.29,\"14\":600},{\"0\":134.0,\"1\":3,\"2\":12.51,\"3\":1.24,\"4\":2.25,\"5\":17.5,\"6\":85,\"7\":2.0,\"8\":0.58,\"9\":0.6,\"10\":1.25,\"11\":5.45,\"12\":0.75,\"13\":1.51,\"14\":650},{\"0\":135.0,\"1\":3,\"2\":12.6,\"3\":2.46,\"4\":2.2,\"5\":18.5,\"6\":94,\"7\":1.62,\"8\":0.66,\"9\":0.63,\"10\":0.94,\"11\":7.1,\"12\":0.73,\"13\":1.58,\"14\":695},{\"0\":136.0,\"1\":3,\"2\":12.25,\"3\":4.72,\"4\":2.54,\"5\":21.0,\"6\":89,\"7\":1.38,\"8\":0.47,\"9\":0.53,\"10\":0.8,\"11\":3.85,\"12\":0.75,\"13\":1.27,\"14\":720},{\"0\":137.0,\"1\":3,\"2\":12.53,\"3\":5.51,\"4\":2.64,\"5\":25.0,\"6\":96,\"7\":1.79,\"8\":0.6,\"9\":0.63,\"10\":1.1,\"11\":5.0,\"12\":0.82,\"13\":1.69,\"14\":515},{\"0\":138.0,\"1\":3,\"2\":13.49,\"3\":3.59,\"4\":2.19,\"5\":19.5,\"6\":88,\"7\":1.62,\"8\":0.48,\"9\":0.58,\"10\":0.88,\"11\":5.7,\"12\":0.81,\"13\":1.82,\"14\":580},{\"0\":139.0,\"1\":3,\"2\":12.84,\"3\":2.96,\"4\":2.61,\"5\":24.0,\"6\":101,\"7\":2.32,\"8\":0.6,\"9\":0.53,\"10\":0.81,\"11\":4.92,\"12\":0.89,\"13\":2.15,\"14\":590},{\"0\":140.0,\"1\":3,\"2\":12.93,\"3\":2.81,\"4\":2.7,\"5\":21.0,\"6\":96,\"7\":1.54,\"8\":0.5,\"9\":0.53,\"10\":0.75,\"11\":4.6,\"12\":0.77,\"13\":2.31,\"14\":600},{\"0\":141.0,\"1\":3,\"2\":13.36,\"3\":2.56,\"4\":2.35,\"5\":20.0,\"6\":89,\"7\":1.4,\"8\":0.5,\"9\":0.37,\"10\":0.64,\"11\":5.6,\"12\":0.7,\"13\":2.47,\"14\":780},{\"0\":142.0,\"1\":3,\"2\":13.52,\"3\":3.17,\"4\":2.72,\"5\":23.5,\"6\":97,\"7\":1.55,\"8\":0.52,\"9\":0.5,\"10\":0.55,\"11\":4.35,\"12\":0.89,\"13\":2.06,\"14\":520},{\"0\":143.0,\"1\":3,\"2\":13.62,\"3\":4.95,\"4\":2.35,\"5\":20.0,\"6\":92,\"7\":2.0,\"8\":0.8,\"9\":0.47,\"10\":1.02,\"11\":4.4,\"12\":0.91,\"13\":2.05,\"14\":550},{\"0\":144.0,\"1\":3,\"2\":12.25,\"3\":3.88,\"4\":2.2,\"5\":18.5,\"6\":112,\"7\":1.38,\"8\":0.78,\"9\":0.29,\"10\":1.14,\"11\":8.21,\"12\":0.65,\"13\":2.0,\"14\":855},{\"0\":145.0,\"1\":3,\"2\":13.16,\"3\":3.57,\"4\":2.15,\"5\":21.0,\"6\":102,\"7\":1.5,\"8\":0.55,\"9\":0.43,\"10\":1.3,\"11\":4.0,\"12\":0.6,\"13\":1.68,\"14\":830},{\"0\":146.0,\"1\":3,\"2\":13.88,\"3\":5.04,\"4\":2.23,\"5\":20.0,\"6\":80,\"7\":0.98,\"8\":0.34,\"9\":0.4,\"10\":0.68,\"11\":4.9,\"12\":0.58,\"13\":1.33,\"14\":415},{\"0\":147.0,\"1\":3,\"2\":12.87,\"3\":4.61,\"4\":2.48,\"5\":21.5,\"6\":86,\"7\":1.7,\"8\":0.65,\"9\":0.47,\"10\":0.86,\"11\":7.65,\"12\":0.54,\"13\":1.86,\"14\":625},{\"0\":148.0,\"1\":3,\"2\":13.32,\"3\":3.24,\"4\":2.38,\"5\":21.5,\"6\":92,\"7\":1.93,\"8\":0.76,\"9\":0.45,\"10\":1.25,\"11\":8.42,\"12\":0.55,\"13\":1.62,\"14\":650},{\"0\":149.0,\"1\":3,\"2\":13.08,\"3\":3.9,\"4\":2.36,\"5\":21.5,\"6\":113,\"7\":1.41,\"8\":1.39,\"9\":0.34,\"10\":1.14,\"11\":9.4,\"12\":0.57,\"13\":1.33,\"14\":550},{\"0\":150.0,\"1\":3,\"2\":13.5,\"3\":3.12,\"4\":2.62,\"5\":24.0,\"6\":123,\"7\":1.4,\"8\":1.57,\"9\":0.22,\"10\":1.25,\"11\":8.6,\"12\":0.59,\"13\":1.3,\"14\":500},{\"0\":151.0,\"1\":3,\"2\":12.79,\"3\":2.67,\"4\":2.48,\"5\":22.0,\"6\":112,\"7\":1.48,\"8\":1.36,\"9\":0.24,\"10\":1.26,\"11\":10.8,\"12\":0.48,\"13\":1.47,\"14\":480},{\"0\":152.0,\"1\":3,\"2\":13.11,\"3\":1.9,\"4\":2.75,\"5\":25.5,\"6\":116,\"7\":2.2,\"8\":1.28,\"9\":0.26,\"10\":1.56,\"11\":7.1,\"12\":0.61,\"13\":1.33,\"14\":425},{\"0\":153.0,\"1\":3,\"2\":13.23,\"3\":3.3,\"4\":2.28,\"5\":18.5,\"6\":98,\"7\":1.8,\"8\":0.83,\"9\":0.61,\"10\":1.87,\"11\":10.52,\"12\":0.56,\"13\":1.51,\"14\":675},{\"0\":154.0,\"1\":3,\"2\":12.58,\"3\":1.29,\"4\":2.1,\"5\":20.0,\"6\":103,\"7\":1.48,\"8\":0.58,\"9\":0.53,\"10\":1.4,\"11\":7.6,\"12\":0.58,\"13\":1.55,\"14\":640},{\"0\":155.0,\"1\":3,\"2\":13.17,\"3\":5.19,\"4\":2.32,\"5\":22.0,\"6\":93,\"7\":1.74,\"8\":0.63,\"9\":0.61,\"10\":1.55,\"11\":7.9,\"12\":0.6,\"13\":1.48,\"14\":725},{\"0\":156.0,\"1\":3,\"2\":13.84,\"3\":4.12,\"4\":2.38,\"5\":19.5,\"6\":89,\"7\":1.8,\"8\":0.83,\"9\":0.48,\"10\":1.56,\"11\":9.01,\"12\":0.57,\"13\":1.64,\"14\":480},{\"0\":157.0,\"1\":3,\"2\":12.45,\"3\":3.03,\"4\":2.64,\"5\":27.0,\"6\":97,\"7\":1.9,\"8\":0.58,\"9\":0.63,\"10\":1.14,\"11\":7.5,\"12\":0.67,\"13\":1.73,\"14\":880},{\"0\":158.0,\"1\":3,\"2\":14.34,\"3\":1.68,\"4\":2.7,\"5\":25.0,\"6\":98,\"7\":2.8,\"8\":1.31,\"9\":0.53,\"10\":2.7,\"11\":13.0,\"12\":0.57,\"13\":1.96,\"14\":660},{\"0\":159.0,\"1\":3,\"2\":13.48,\"3\":1.67,\"4\":2.64,\"5\":22.5,\"6\":89,\"7\":2.6,\"8\":1.1,\"9\":0.52,\"10\":2.29,\"11\":11.75,\"12\":0.57,\"13\":1.78,\"14\":620},{\"0\":160.0,\"1\":3,\"2\":12.36,\"3\":3.83,\"4\":2.38,\"5\":21.0,\"6\":88,\"7\":2.3,\"8\":0.92,\"9\":0.5,\"10\":1.04,\"11\":7.65,\"12\":0.56,\"13\":1.58,\"14\":520},{\"0\":161.0,\"1\":3,\"2\":13.69,\"3\":3.26,\"4\":2.54,\"5\":20.0,\"6\":107,\"7\":1.83,\"8\":0.56,\"9\":0.5,\"10\":0.8,\"11\":5.88,\"12\":0.96,\"13\":1.82,\"14\":680},{\"0\":162.0,\"1\":3,\"2\":12.85,\"3\":3.27,\"4\":2.58,\"5\":22.0,\"6\":106,\"7\":1.65,\"8\":0.6,\"9\":0.6,\"10\":0.96,\"11\":5.58,\"12\":0.87,\"13\":2.11,\"14\":570},{\"0\":163.0,\"1\":3,\"2\":12.96,\"3\":3.45,\"4\":2.35,\"5\":18.5,\"6\":106,\"7\":1.39,\"8\":0.7,\"9\":0.4,\"10\":0.94,\"11\":5.28,\"12\":0.68,\"13\":1.75,\"14\":675},{\"0\":164.0,\"1\":3,\"2\":13.78,\"3\":2.76,\"4\":2.3,\"5\":22.0,\"6\":90,\"7\":1.35,\"8\":0.68,\"9\":0.41,\"10\":1.03,\"11\":9.58,\"12\":0.7,\"13\":1.68,\"14\":615},{\"0\":165.0,\"1\":3,\"2\":13.73,\"3\":4.36,\"4\":2.26,\"5\":22.5,\"6\":88,\"7\":1.28,\"8\":0.47,\"9\":0.52,\"10\":1.15,\"11\":6.62,\"12\":0.78,\"13\":1.75,\"14\":520},{\"0\":166.0,\"1\":3,\"2\":13.45,\"3\":3.7,\"4\":2.6,\"5\":23.0,\"6\":111,\"7\":1.7,\"8\":0.92,\"9\":0.43,\"10\":1.46,\"11\":10.68,\"12\":0.85,\"13\":1.56,\"14\":695},{\"0\":167.0,\"1\":3,\"2\":12.82,\"3\":3.37,\"4\":2.3,\"5\":19.5,\"6\":88,\"7\":1.48,\"8\":0.66,\"9\":0.4,\"10\":0.97,\"11\":10.26,\"12\":0.72,\"13\":1.75,\"14\":685},{\"0\":168.0,\"1\":3,\"2\":13.58,\"3\":2.58,\"4\":2.69,\"5\":24.5,\"6\":105,\"7\":1.55,\"8\":0.84,\"9\":0.39,\"10\":1.54,\"11\":8.66,\"12\":0.74,\"13\":1.8,\"14\":750},{\"0\":169.0,\"1\":3,\"2\":13.4,\"3\":4.6,\"4\":2.86,\"5\":25.0,\"6\":112,\"7\":1.98,\"8\":0.96,\"9\":0.27,\"10\":1.11,\"11\":8.5,\"12\":0.67,\"13\":1.92,\"14\":630},{\"0\":170.0,\"1\":3,\"2\":12.2,\"3\":3.03,\"4\":2.32,\"5\":19.0,\"6\":96,\"7\":1.25,\"8\":0.49,\"9\":0.4,\"10\":0.73,\"11\":5.5,\"12\":0.66,\"13\":1.83,\"14\":510},{\"0\":171.0,\"1\":3,\"2\":12.77,\"3\":2.39,\"4\":2.28,\"5\":19.5,\"6\":86,\"7\":1.39,\"8\":0.51,\"9\":0.48,\"10\":0.64,\"11\":9.899999,\"12\":0.57,\"13\":1.63,\"14\":470},{\"0\":172.0,\"1\":3,\"2\":14.16,\"3\":2.51,\"4\":2.48,\"5\":20.0,\"6\":91,\"7\":1.68,\"8\":0.7,\"9\":0.44,\"10\":1.24,\"11\":9.7,\"12\":0.62,\"13\":1.71,\"14\":660},{\"0\":173.0,\"1\":3,\"2\":13.71,\"3\":5.65,\"4\":2.45,\"5\":20.5,\"6\":95,\"7\":1.68,\"8\":0.61,\"9\":0.52,\"10\":1.06,\"11\":7.7,\"12\":0.64,\"13\":1.74,\"14\":740},{\"0\":174.0,\"1\":3,\"2\":13.4,\"3\":3.91,\"4\":2.48,\"5\":23.0,\"6\":102,\"7\":1.8,\"8\":0.75,\"9\":0.43,\"10\":1.41,\"11\":7.3,\"12\":0.7,\"13\":1.56,\"14\":750},{\"0\":175.0,\"1\":3,\"2\":13.27,\"3\":4.28,\"4\":2.26,\"5\":20.0,\"6\":120,\"7\":1.59,\"8\":0.69,\"9\":0.43,\"10\":1.35,\"11\":10.2,\"12\":0.59,\"13\":1.56,\"14\":835},{\"0\":176.0,\"1\":3,\"2\":13.17,\"3\":2.59,\"4\":2.37,\"5\":20.0,\"6\":120,\"7\":1.65,\"8\":0.68,\"9\":0.53,\"10\":1.46,\"11\":9.3,\"12\":0.6,\"13\":1.62,\"14\":840},{\"0\":177.0,\"1\":3,\"2\":14.13,\"3\":4.1,\"4\":2.74,\"5\":24.5,\"6\":96,\"7\":2.05,\"8\":0.76,\"9\":0.56,\"10\":1.35,\"11\":9.2,\"12\":0.61,\"13\":1.6,\"14\":560}]'"
      ]
     },
     "execution_count": 113,
     "metadata": {},
     "output_type": "execute_result"
    }
   ],
   "source": [
    "df.to_json(orient=\"records\")"
   ]
  },
  {
   "cell_type": "markdown",
   "metadata": {},
   "source": [
    "# Reading HTML Content"
   ]
  },
  {
   "cell_type": "code",
   "execution_count": 117,
   "metadata": {},
   "outputs": [],
   "source": [
    "# url = 'https://www.fdic.gov/bank/individual/failed/banklist.html'\n",
    "\n",
    "# dfs = pd.read_html(url)"
   ]
  },
  {
   "cell_type": "markdown",
   "metadata": {},
   "source": [
    "# Reading Excel Files"
   ]
  },
  {
   "cell_type": "code",
   "execution_count": 122,
   "metadata": {},
   "outputs": [],
   "source": [
    "df_excel = pd.read_excel(\"Excel_Sample.xlsx\")"
   ]
  },
  {
   "cell_type": "code",
   "execution_count": 123,
   "metadata": {},
   "outputs": [
    {
     "data": {
      "text/html": [
       "<div>\n",
       "<style scoped>\n",
       "    .dataframe tbody tr th:only-of-type {\n",
       "        vertical-align: middle;\n",
       "    }\n",
       "\n",
       "    .dataframe tbody tr th {\n",
       "        vertical-align: top;\n",
       "    }\n",
       "\n",
       "    .dataframe thead th {\n",
       "        text-align: right;\n",
       "    }\n",
       "</style>\n",
       "<table border=\"1\" class=\"dataframe\">\n",
       "  <thead>\n",
       "    <tr style=\"text-align: right;\">\n",
       "      <th></th>\n",
       "      <th>a</th>\n",
       "      <th>b</th>\n",
       "      <th>c</th>\n",
       "      <th>d</th>\n",
       "    </tr>\n",
       "  </thead>\n",
       "  <tbody>\n",
       "    <tr>\n",
       "      <th>0</th>\n",
       "      <td>0</td>\n",
       "      <td>1</td>\n",
       "      <td>2</td>\n",
       "      <td>3</td>\n",
       "    </tr>\n",
       "    <tr>\n",
       "      <th>1</th>\n",
       "      <td>4</td>\n",
       "      <td>5</td>\n",
       "      <td>6</td>\n",
       "      <td>7</td>\n",
       "    </tr>\n",
       "    <tr>\n",
       "      <th>2</th>\n",
       "      <td>8</td>\n",
       "      <td>9</td>\n",
       "      <td>10</td>\n",
       "      <td>11</td>\n",
       "    </tr>\n",
       "    <tr>\n",
       "      <th>3</th>\n",
       "      <td>12</td>\n",
       "      <td>13</td>\n",
       "      <td>14</td>\n",
       "      <td>15</td>\n",
       "    </tr>\n",
       "  </tbody>\n",
       "</table>\n",
       "</div>"
      ],
      "text/plain": [
       "    a   b   c   d\n",
       "0   0   1   2   3\n",
       "1   4   5   6   7\n",
       "2   8   9  10  11\n",
       "3  12  13  14  15"
      ]
     },
     "execution_count": 123,
     "metadata": {},
     "output_type": "execute_result"
    }
   ],
   "source": [
    "df_excel.head()"
   ]
  },
  {
   "cell_type": "markdown",
   "metadata": {},
   "source": [
    "# Pickling"
   ]
  },
  {
   "cell_type": "code",
   "execution_count": 125,
   "metadata": {},
   "outputs": [],
   "source": [
    "df_excel.to_pickle('df_excel')"
   ]
  },
  {
   "cell_type": "code",
   "execution_count": 126,
   "metadata": {},
   "outputs": [],
   "source": [
    "df = pd.read_pickle('df_excel')"
   ]
  },
  {
   "cell_type": "code",
   "execution_count": 127,
   "metadata": {},
   "outputs": [
    {
     "data": {
      "text/html": [
       "<div>\n",
       "<style scoped>\n",
       "    .dataframe tbody tr th:only-of-type {\n",
       "        vertical-align: middle;\n",
       "    }\n",
       "\n",
       "    .dataframe tbody tr th {\n",
       "        vertical-align: top;\n",
       "    }\n",
       "\n",
       "    .dataframe thead th {\n",
       "        text-align: right;\n",
       "    }\n",
       "</style>\n",
       "<table border=\"1\" class=\"dataframe\">\n",
       "  <thead>\n",
       "    <tr style=\"text-align: right;\">\n",
       "      <th></th>\n",
       "      <th>a</th>\n",
       "      <th>b</th>\n",
       "      <th>c</th>\n",
       "      <th>d</th>\n",
       "    </tr>\n",
       "  </thead>\n",
       "  <tbody>\n",
       "    <tr>\n",
       "      <th>0</th>\n",
       "      <td>0</td>\n",
       "      <td>1</td>\n",
       "      <td>2</td>\n",
       "      <td>3</td>\n",
       "    </tr>\n",
       "    <tr>\n",
       "      <th>1</th>\n",
       "      <td>4</td>\n",
       "      <td>5</td>\n",
       "      <td>6</td>\n",
       "      <td>7</td>\n",
       "    </tr>\n",
       "    <tr>\n",
       "      <th>2</th>\n",
       "      <td>8</td>\n",
       "      <td>9</td>\n",
       "      <td>10</td>\n",
       "      <td>11</td>\n",
       "    </tr>\n",
       "    <tr>\n",
       "      <th>3</th>\n",
       "      <td>12</td>\n",
       "      <td>13</td>\n",
       "      <td>14</td>\n",
       "      <td>15</td>\n",
       "    </tr>\n",
       "  </tbody>\n",
       "</table>\n",
       "</div>"
      ],
      "text/plain": [
       "    a   b   c   d\n",
       "0   0   1   2   3\n",
       "1   4   5   6   7\n",
       "2   8   9  10  11\n",
       "3  12  13  14  15"
      ]
     },
     "execution_count": 127,
     "metadata": {},
     "output_type": "execute_result"
    }
   ],
   "source": [
    "df.head()"
   ]
  },
  {
   "cell_type": "code",
   "execution_count": null,
   "metadata": {},
   "outputs": [],
   "source": []
  }
 ],
 "metadata": {
  "kernelspec": {
   "display_name": "Python 3.5",
   "language": "python",
   "name": "python3"
  },
  "language_info": {
   "codemirror_mode": {
    "name": "ipython",
    "version": 3
   },
   "file_extension": ".py",
   "mimetype": "text/x-python",
   "name": "python",
   "nbconvert_exporter": "python",
   "pygments_lexer": "ipython3",
   "version": "3.5.5"
  }
 },
 "nbformat": 4,
 "nbformat_minor": 2
}
